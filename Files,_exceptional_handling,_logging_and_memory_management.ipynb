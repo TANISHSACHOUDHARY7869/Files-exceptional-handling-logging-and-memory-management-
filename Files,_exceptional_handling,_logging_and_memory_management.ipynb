{
  "nbformat": 4,
  "nbformat_minor": 0,
  "metadata": {
    "colab": {
      "provenance": []
    },
    "kernelspec": {
      "name": "python3",
      "display_name": "Python 3"
    },
    "language_info": {
      "name": "python"
    }
  },
  "cells": [
    {
      "cell_type": "markdown",
      "source": [
        "1) What is the difference between interpreted and compiled languages?\n",
        "\n",
        "Ans:- The difference between interpreted and compiled languages lies in how they are translated into machine code and when that translation occurs.\n",
        "\n",
        "🔧 Compiled Languages\n",
        "Definition: These languages are translated entirely into machine code by a compiler before the program is run.\n",
        "\n",
        "Process:\n",
        "\n",
        "You write the code.\n",
        "\n",
        "A compiler translates it into machine code.\n",
        "\n",
        "You run the compiled binary (executable).\n",
        "\n",
        "Examples: C, C++, Rust, Go\n",
        "\n",
        "Pros:\n",
        "\n",
        "Usually faster execution (machine code is already ready to run).\n",
        "\n",
        "More optimization opportunities during compilation.\n",
        "\n",
        "Cons:\n",
        "\n",
        "Compilation step adds extra time during development.\n",
        "\n",
        "Less flexible in making quick changes and testing.\n",
        "\n",
        "⚙️ Interpreted Languages\n",
        "Definition: These are run line-by-line or instruction-by-instruction by an interpreter at runtime.\n",
        "\n",
        "Process:\n",
        "\n",
        "You write the code.\n",
        "\n",
        "The interpreter reads and executes the code directly.\n",
        "\n",
        "Examples: Python, JavaScript, Ruby, PHP\n",
        "\n",
        "Pros:\n",
        "\n",
        "Easier to test and debug (no need to compile).\n",
        "\n",
        "Good for scripting, quick changes, or dynamic environments.\n",
        "\n",
        "Cons:\n",
        "\n",
        "Usually slower than compiled code.\n",
        "\n",
        "Can be less secure (code is visible and interpreted on the fly).\n",
        "\n",
        "🌀 Hybrid Languages\n",
        "Some languages use a mix of both:\n",
        "\n",
        "Java: Compiled to bytecode, which runs on the Java Virtual Machine (JVM).\n",
        "\n",
        "Python: Often compiled to intermediate bytecode (.pyc files), then interpreted by the Python Virtual Machine.\n",
        "\n",
        "\n",
        "2) What is exception handling in Python?\n",
        "\n",
        "Ans:- :\n",
        "🛠️ 2) What is Exception Handling in Python?\n",
        "Exception handling in Python is a way to manage and respond to errors or unexpected events that occur during program execution, without crashing the entire program.\n",
        "\n",
        "🔍 Why Is It Important?\n",
        "When something goes wrong (e.g., dividing by zero, opening a missing file), Python raises an exception. If you don’t handle it, your program will terminate.\n",
        "\n",
        "✅ Basic Syntax of Exception Handling\n"
      ],
      "metadata": {
        "id": "-Nulisn2K3vr"
      }
    },
    {
      "cell_type": "code",
      "source": [
        "try:\n",
        "    # Code that might cause an exception\n",
        "    x = 10 / 0\n",
        "except ZeroDivisionError:\n",
        "    # Code that runs if a ZeroDivisionError occurs\n",
        "    print(\"You can't divide by zero!\")\n"
      ],
      "metadata": {
        "colab": {
          "base_uri": "https://localhost:8080/"
        },
        "id": "fWEp92WpLd9P",
        "outputId": "76a93006-8d22-493d-c266-6c5373802fbf"
      },
      "execution_count": null,
      "outputs": [
        {
          "output_type": "stream",
          "name": "stdout",
          "text": [
            "You can't divide by zero!\n"
          ]
        }
      ]
    },
    {
      "cell_type": "markdown",
      "source": [
        "\n",
        "🧩 Structure Explained\n",
        "Block\tPurpose\n",
        "try\tWraps code that may cause an exception.\n",
        "except\tCatches and handles specific exceptions.\n",
        "else\t(Optional) Runs if no exception occurs.\n",
        "finally\t(Optional) Runs no matter what—used for cleanup (e.g., closing a file).\n",
        "\n",
        "\n",
        "\n",
        "🔄 Example with All Blocks\n"
      ],
      "metadata": {
        "id": "XKY0LL-nLlIA"
      }
    },
    {
      "cell_type": "code",
      "source": [
        "try:\n",
        "    f = open(\"file.txt\", \"r\")\n",
        "    data = f.read()\n",
        "except FileNotFoundError:\n",
        "    print(\"File not found.\")\n",
        "else:\n",
        "    print(\"File read successfully.\")\n",
        "finally:\n",
        "    print(\"This runs no matter what.\")\n"
      ],
      "metadata": {
        "colab": {
          "base_uri": "https://localhost:8080/"
        },
        "id": "yazl3I00LuIw",
        "outputId": "674afbd2-ea30-4928-d80d-3af68c1fd65f"
      },
      "execution_count": null,
      "outputs": [
        {
          "output_type": "stream",
          "name": "stdout",
          "text": [
            "File not found.\n",
            "This runs no matter what.\n"
          ]
        }
      ]
    },
    {
      "cell_type": "markdown",
      "source": [
        "\n",
        "🧠 Common Built-in Exceptions\n",
        "ZeroDivisionError\n",
        "\n",
        "FileNotFoundError\n",
        "\n",
        "TypeError\n",
        "\n",
        "ValueError\n",
        "\n",
        "IndexError\n",
        "\n",
        "KeyError\n",
        "\n",
        "🚨 Raising Your Own Exceptions\n",
        "You can also manually raise exceptions using the raise keyword"
      ],
      "metadata": {
        "id": "04IVQE5jL0F1"
      }
    },
    {
      "cell_type": "code",
      "source": [
        "age = -5\n",
        "if age < 0:\n",
        "    raise ValueError(\"Age cannot be negative\")\n"
      ],
      "metadata": {
        "colab": {
          "base_uri": "https://localhost:8080/",
          "height": 176
        },
        "id": "NFC5cBVxL1Tq",
        "outputId": "7e5dc42b-891f-4548-c90e-7b0046d48283"
      },
      "execution_count": null,
      "outputs": [
        {
          "output_type": "error",
          "ename": "ValueError",
          "evalue": "Age cannot be negative",
          "traceback": [
            "\u001b[0;31m---------------------------------------------------------------------------\u001b[0m",
            "\u001b[0;31mValueError\u001b[0m                                Traceback (most recent call last)",
            "\u001b[0;32m<ipython-input-3-75e31588d4e2>\u001b[0m in \u001b[0;36m<cell line: 0>\u001b[0;34m()\u001b[0m\n\u001b[1;32m      1\u001b[0m \u001b[0mage\u001b[0m \u001b[0;34m=\u001b[0m \u001b[0;34m-\u001b[0m\u001b[0;36m5\u001b[0m\u001b[0;34m\u001b[0m\u001b[0;34m\u001b[0m\u001b[0m\n\u001b[1;32m      2\u001b[0m \u001b[0;32mif\u001b[0m \u001b[0mage\u001b[0m \u001b[0;34m<\u001b[0m \u001b[0;36m0\u001b[0m\u001b[0;34m:\u001b[0m\u001b[0;34m\u001b[0m\u001b[0;34m\u001b[0m\u001b[0m\n\u001b[0;32m----> 3\u001b[0;31m     \u001b[0;32mraise\u001b[0m \u001b[0mValueError\u001b[0m\u001b[0;34m(\u001b[0m\u001b[0;34m\"Age cannot be negative\"\u001b[0m\u001b[0;34m)\u001b[0m\u001b[0;34m\u001b[0m\u001b[0;34m\u001b[0m\u001b[0m\n\u001b[0m",
            "\u001b[0;31mValueError\u001b[0m: Age cannot be negative"
          ]
        }
      ]
    },
    {
      "cell_type": "markdown",
      "source": [
        "3)  What is the purpose of the finally block in exception handling?\n",
        "\n",
        "Ans:- :\n",
        "🔚 What Is the Purpose of the finally Block in Exception Handling?\n",
        "The finally block in Python is used to guarantee that certain code runs no matter what happens—whether an exception is raised, handled, or not.\n",
        "\n",
        "✅ Purpose of finally\n",
        "To perform cleanup actions.\n",
        "\n",
        "To release resources like files, network connections, or database links.\n",
        "\n",
        "To ensure important final steps are executed even if an error occurs.\n",
        "\n",
        "📦 Typical Use Case Examples\n",
        "Closing a file\n",
        "\n",
        "Releasing a lock\n",
        "\n",
        "Disconnecting from a database\n",
        "\n",
        "Logging final messages\n",
        "\n",
        "🔄 Syntax Example\n"
      ],
      "metadata": {
        "id": "f9v8vvf6L5qs"
      }
    },
    {
      "cell_type": "code",
      "source": [
        "try:\n",
        "    file = open(\"data.txt\", \"r\")\n",
        "    data = file.read()\n",
        "except FileNotFoundError:\n",
        "    print(\"File not found!\")\n",
        "finally:\n",
        "    file.close()\n",
        "    print(\"File closed.\")\n"
      ],
      "metadata": {
        "colab": {
          "base_uri": "https://localhost:8080/",
          "height": 211
        },
        "id": "OgdN0lGsMK-y",
        "outputId": "50febdcf-d54e-42c1-c666-a3e5195a2acc"
      },
      "execution_count": null,
      "outputs": [
        {
          "output_type": "stream",
          "name": "stdout",
          "text": [
            "File not found!\n"
          ]
        },
        {
          "output_type": "error",
          "ename": "NameError",
          "evalue": "name 'file' is not defined",
          "traceback": [
            "\u001b[0;31m---------------------------------------------------------------------------\u001b[0m",
            "\u001b[0;31mNameError\u001b[0m                                 Traceback (most recent call last)",
            "\u001b[0;32m<ipython-input-5-ffbff6690080>\u001b[0m in \u001b[0;36m<cell line: 0>\u001b[0;34m()\u001b[0m\n\u001b[1;32m      5\u001b[0m     \u001b[0mprint\u001b[0m\u001b[0;34m(\u001b[0m\u001b[0;34m\"File not found!\"\u001b[0m\u001b[0;34m)\u001b[0m\u001b[0;34m\u001b[0m\u001b[0;34m\u001b[0m\u001b[0m\n\u001b[1;32m      6\u001b[0m \u001b[0;32mfinally\u001b[0m\u001b[0;34m:\u001b[0m\u001b[0;34m\u001b[0m\u001b[0;34m\u001b[0m\u001b[0m\n\u001b[0;32m----> 7\u001b[0;31m     \u001b[0mfile\u001b[0m\u001b[0;34m.\u001b[0m\u001b[0mclose\u001b[0m\u001b[0;34m(\u001b[0m\u001b[0;34m)\u001b[0m\u001b[0;34m\u001b[0m\u001b[0;34m\u001b[0m\u001b[0m\n\u001b[0m\u001b[1;32m      8\u001b[0m     \u001b[0mprint\u001b[0m\u001b[0;34m(\u001b[0m\u001b[0;34m\"File closed.\"\u001b[0m\u001b[0;34m)\u001b[0m\u001b[0;34m\u001b[0m\u001b[0;34m\u001b[0m\u001b[0m\n",
            "\u001b[0;31mNameError\u001b[0m: name 'file' is not defined"
          ]
        }
      ]
    },
    {
      "cell_type": "markdown",
      "source": [
        "Even if the file is not found and an exception occurs, the finally block still runs.\n",
        "\n",
        "✅ Key Characteristics\n",
        "Feature\tBehavior\n",
        "Runs when no exception\t✅ Yes\n",
        "Runs when an exception occurs\t✅ Yes\n",
        "Runs when exception is unhandled\t✅ Yes\n",
        "Skipped only if Python process exits (e.g., os._exit())\t⚠️ Yes in rare cases\n",
        "\n",
        "💡 Important Note\n",
        "Even if you use return inside try or except, the finally block will still execute:\n"
      ],
      "metadata": {
        "id": "HaSdmSjxMPM7"
      }
    },
    {
      "cell_type": "code",
      "source": [
        "def test():\n",
        "    try:\n",
        "        return \"try block\"\n",
        "    finally:\n",
        "        print(\"This will always run\")\n",
        "\n",
        "print(test())\n",
        "# Output:\n",
        "# This will always run\n",
        "# try block\n"
      ],
      "metadata": {
        "colab": {
          "base_uri": "https://localhost:8080/"
        },
        "id": "glv4W9NUMUcO",
        "outputId": "39855ed1-1d8e-440e-e3e8-0e2a3ee23898"
      },
      "execution_count": null,
      "outputs": [
        {
          "output_type": "stream",
          "name": "stdout",
          "text": [
            "This will always run\n",
            "try block\n"
          ]
        }
      ]
    },
    {
      "cell_type": "markdown",
      "source": [
        "4)  What is logging in Python?\n",
        "\n",
        "Ans:-:\n",
        "📝 What Is Logging in Python?\n",
        "Logging in Python is the process of recording events, messages, errors, or information about the program’s execution for debugging, monitoring, or auditing purposes.\n",
        "\n",
        "Instead of using print() statements (which are not ideal for production), Python provides the logging module to handle messages in a flexible and standardized way.\n",
        "\n",
        "🔧 Why Use Logging?\n",
        "Helps track errors, warnings, and debug info.\n",
        "\n",
        "Useful for understanding what happened, when, and where in the code.\n",
        "\n",
        "Supports writing logs to files, filtering messages, and setting levels of importance.\n",
        "\n",
        "🧱 Logging Levels\n",
        "Python defines five standard levels of logging severity:\n",
        "\n",
        "Level Name\tFunction\tDescription\n",
        "DEBUG\tlogging.debug()\tDetailed info, useful for diagnosing problems\n",
        "INFO\tlogging.info()\tGeneral events (e.g., app started)\n",
        "WARNING\tlogging.warning()\tIndicates something unexpected\n",
        "ERROR\tlogging.error()\tA serious issue that caused a failure\n",
        "CRITICAL\tlogging.critical()\tVery severe error—might crash the app\n",
        "\n"
      ],
      "metadata": {
        "id": "ngiR8du5MXnm"
      }
    },
    {
      "cell_type": "code",
      "source": [
        "import logging\n",
        "\n",
        "logging.basicConfig(\n",
        "    level=logging.DEBUG,\n",
        "    filename='app.log',          # Log to a file instead of console\n",
        "    filemode='w',                # Overwrite the log file\n",
        "    format='%(asctime)s - %(levelname)s - %(message)s'\n",
        ")\n",
        "\n",
        "logging.debug(\"Debug message\")\n",
        "logging.warning(\"This is a warning\")\n",
        "logging.error(\"This is an error\")\n"
      ],
      "metadata": {
        "colab": {
          "base_uri": "https://localhost:8080/"
        },
        "id": "5xp4zKLSMx-U",
        "outputId": "d9ecdee9-be30-4d8a-a71a-f61f5416bbb3"
      },
      "execution_count": null,
      "outputs": [
        {
          "output_type": "stream",
          "name": "stderr",
          "text": [
            "WARNING:root:This is a warning\n",
            "ERROR:root:This is an error\n"
          ]
        }
      ]
    },
    {
      "cell_type": "markdown",
      "source": [
        "5)  What is the significance of the __del__ method in Python\n",
        "\n",
        "Ans:- :\n",
        "🧹 What Is the Significance of the __del__ Method in Python?\n",
        "The __del__ method in Python is a special method known as a destructor. It's called automatically when an object is about to be destroyed, typically when it goes out of scope and is garbage collected.\n",
        "\n",
        "🔧 Purpose of __del__\n",
        "To clean up resources before an object is deleted.\n",
        "\n",
        "Used for actions like:\n",
        "\n",
        "Closing files or network connections\n",
        "\n",
        "Releasing external resources\n",
        "\n",
        "Logging or notifying when an object is destroyed\n",
        "\n",
        "🧪 Syntax Example"
      ],
      "metadata": {
        "id": "W0aCUdoqMzIO"
      }
    },
    {
      "cell_type": "code",
      "source": [
        "class MyClass:\n",
        "    def __init__(self):\n",
        "        print(\"Object created\")\n",
        "\n",
        "    def __del__(self):\n",
        "        print(\"Object destroyed\")\n",
        "\n",
        "obj = MyClass()\n",
        "del obj  # Explicit deletion\n"
      ],
      "metadata": {
        "colab": {
          "base_uri": "https://localhost:8080/"
        },
        "id": "FHonviV2NGyr",
        "outputId": "8cf40971-e5f9-449c-954a-0ce69abd8e65"
      },
      "execution_count": null,
      "outputs": [
        {
          "output_type": "stream",
          "name": "stdout",
          "text": [
            "Object created\n",
            "Object destroyed\n"
          ]
        }
      ]
    },
    {
      "cell_type": "markdown",
      "source": [
        "⚠️ Important Notes & Limitations\n",
        "Not always called immediately: Python uses garbage collection, so __del__ is called when an object’s reference count drops to zero, but exact timing is not guaranteed.\n",
        "\n",
        "Unpredictable with circular references: If objects reference each other, Python’s garbage collector might not call __del__ reliably.\n",
        "\n",
        "Exceptions in __del__ are ignored: Errors inside __del__ don’t raise exceptions — they are silently ignored.\n",
        "\n",
        "Better alternatives exist:\n",
        "\n",
        "Prefer context managers (with statement) and the __enter__ / __exit__ methods for deterministic cleanup.\n",
        "\n",
        "6) What is the difference between import and from ... import in Python?\n",
        "\n",
        "Ans:- :\n",
        "🔄 What Is the Difference Between import and from ... import in Python?\n",
        "Both import and from ... import are used to bring in external modules, but they differ in how much of the module is brought in and how you access its contents.\n",
        "\n",
        "📦 import Statement\n"
      ],
      "metadata": {
        "id": "u1K33Z0RNJWZ"
      }
    },
    {
      "cell_type": "code",
      "source": [
        "import math\n",
        "print(math.sqrt(16))  # Access using the module name\n"
      ],
      "metadata": {
        "colab": {
          "base_uri": "https://localhost:8080/"
        },
        "id": "73KGr7foNdXk",
        "outputId": "9b92f04d-0f68-4343-d2d2-372bb109b486"
      },
      "execution_count": null,
      "outputs": [
        {
          "output_type": "stream",
          "name": "stdout",
          "text": [
            "4.0\n"
          ]
        }
      ]
    },
    {
      "cell_type": "markdown",
      "source": [
        "What it does: Imports the entire module.\n",
        "\n",
        "How to access: You need to prefix everything with the module name (math.sqrt, math.pi, etc.).\n",
        "\n",
        "✅ Pros:\n",
        "\n",
        "Easy to see where functions come from.\n",
        "\n",
        "Prevents name conflicts.\n",
        "\n",
        "❌ Cons:\n",
        "\n",
        "Slightly more typing.\n",
        "\n",
        "🎯 from ... import Statement"
      ],
      "metadata": {
        "id": "Sfr87iUJNlRP"
      }
    },
    {
      "cell_type": "code",
      "source": [
        "from math import sqrt\n",
        "print(sqrt(16))  # No need to prefix with module name\n"
      ],
      "metadata": {
        "colab": {
          "base_uri": "https://localhost:8080/"
        },
        "id": "eXa_6AL-Nnxi",
        "outputId": "5037b950-a02b-4d02-b305-edfd233b5291"
      },
      "execution_count": null,
      "outputs": [
        {
          "output_type": "stream",
          "name": "stdout",
          "text": [
            "4.0\n"
          ]
        }
      ]
    },
    {
      "cell_type": "markdown",
      "source": [
        "What it does: Imports specific items (functions, classes, variables) from a module.\n",
        "\n",
        "How to access: You can use the imported item directly, without the module prefix.\n",
        "\n",
        "✅ Pros:\n",
        "\n",
        "Cleaner syntax.\n",
        "\n",
        "Only brings in what you need (can save memory in large modules).\n",
        "\n",
        "❌ Cons:\n",
        "\n",
        "Can cause name conflicts (e.g., if your code already has a sqrt function).\n",
        "\n",
        "Less obvious where a function came from.\n",
        "\n"
      ],
      "metadata": {
        "id": "p4RTk_jgNp56"
      }
    },
    {
      "cell_type": "code",
      "source": [
        "from math import *  # Imports everything (bad practice)\n"
      ],
      "metadata": {
        "id": "d-lj05gANunA"
      },
      "execution_count": null,
      "outputs": []
    },
    {
      "cell_type": "markdown",
      "source": [
        "It pollutes the namespace.\n",
        "\n",
        "Makes it hard to track where names are coming from.\n",
        "\n",
        "7) How can you handle multiple exceptions in Python?\n",
        "\n",
        "Ans:- :\n",
        "🔄 How to Handle Multiple Exceptions in Python\n",
        "In Python, you can handle multiple exceptions using one of the following techniques depending on how you want to manage them.\n",
        "\n",
        "✅ 1. Handle Multiple Exceptions Separately\n",
        "You can write multiple except blocks to handle different exception types individually.\n",
        "\n"
      ],
      "metadata": {
        "id": "L8gSVr9tNx2y"
      }
    },
    {
      "cell_type": "code",
      "source": [
        "try:\n",
        "    num = int(\"abc\")  # Will raise ValueError\n",
        "    result = 10 / 0    # Would raise ZeroDivisionError\n",
        "except ValueError:\n",
        "    print(\"Caught a ValueError!\")\n",
        "except ZeroDivisionError:\n",
        "    print(\"Caught a ZeroDivisionError!\")\n"
      ],
      "metadata": {
        "colab": {
          "base_uri": "https://localhost:8080/"
        },
        "id": "39ojzu89OHWJ",
        "outputId": "78e6ca7f-8035-4292-f5c7-72ba7cd8d2ca"
      },
      "execution_count": null,
      "outputs": [
        {
          "output_type": "stream",
          "name": "stdout",
          "text": [
            "Caught a ValueError!\n"
          ]
        }
      ]
    },
    {
      "cell_type": "markdown",
      "source": [
        "✅ Best when you want different handling logic for each exception.\n",
        "\n",
        "✅ 2. Handle Multiple Exceptions Together (Tuple)\n",
        "You can handle multiple exceptions in one block using a tuple."
      ],
      "metadata": {
        "id": "LMu4DXtdOI8s"
      }
    },
    {
      "cell_type": "code",
      "source": [
        "try:\n",
        "    num = int(\"abc\")\n",
        "except (ValueError, TypeError):\n",
        "    print(\"Caught a ValueError or TypeError\")\n"
      ],
      "metadata": {
        "colab": {
          "base_uri": "https://localhost:8080/"
        },
        "id": "uhKQUJtFONMM",
        "outputId": "4d7d284f-1aab-4857-8fea-ef7d0413d130"
      },
      "execution_count": null,
      "outputs": [
        {
          "output_type": "stream",
          "name": "stdout",
          "text": [
            "Caught a ValueError or TypeError\n"
          ]
        }
      ]
    },
    {
      "cell_type": "markdown",
      "source": [
        "✅ Good for shared handling logic.\n",
        "\n",
        "✅ 3. Catch All Exceptions (Use with Care)\n"
      ],
      "metadata": {
        "id": "KUHPpc_7ORuu"
      }
    },
    {
      "cell_type": "code",
      "source": [
        "try:\n",
        "    risky_code()\n",
        "except Exception as e:\n",
        "    print(\"An error occurred:\", e)\n"
      ],
      "metadata": {
        "id": "SFfKIPFfOTdi"
      },
      "execution_count": null,
      "outputs": []
    },
    {
      "cell_type": "markdown",
      "source": [
        "✅ Useful for logging or fallback behavior.\n",
        "⚠️ Use carefully—this can hide bugs if overused.\n",
        "\n",
        "✅ 4. Use else and finally with Multiple Exceptions"
      ],
      "metadata": {
        "id": "3Y9IXXkqOXcu"
      }
    },
    {
      "cell_type": "code",
      "source": [
        "try:\n",
        "    x = int(input(\"Enter a number: \"))\n",
        "    result = 10 / x\n",
        "except ValueError:\n",
        "    print(\"Invalid input! Not a number.\")\n",
        "except ZeroDivisionError:\n",
        "    print(\"Can't divide by zero!\")\n",
        "else:\n",
        "    print(\"Result is\", result)\n",
        "finally:\n",
        "    print(\"This always runs.\")\n"
      ],
      "metadata": {
        "colab": {
          "base_uri": "https://localhost:8080/"
        },
        "id": "ItgK2vw4OZzw",
        "outputId": "5d0a1e30-864e-456f-ae04-a3b2a2963183"
      },
      "execution_count": null,
      "outputs": [
        {
          "output_type": "stream",
          "name": "stdout",
          "text": [
            "Enter a number: 7\n",
            "Result is 1.4285714285714286\n",
            "This always runs.\n"
          ]
        }
      ]
    },
    {
      "cell_type": "markdown",
      "source": [
        "else: Runs only if no exceptions are raised.\n",
        "\n",
        "finally: Runs no matter what (good for cleanup).\n",
        "\n",
        "\n",
        "8) What is the purpose of the with statement when handling files in Python?\n",
        "\n",
        "Ans:- :\n",
        "📂 What Is the Purpose of the with Statement When Handling Files in Python?\n",
        "The with statement in Python is used to simplify file handling by ensuring that resources like files are properly managed and closed, even if an error occurs.\n",
        "\n",
        "🔧 Purpose of with\n",
        "Automatically opens and closes the file.\n",
        "\n",
        "Makes code cleaner, shorter, and safer.\n",
        "\n",
        "Prevents issues like:\n",
        "\n",
        "Leaving files open\n",
        "\n",
        "Forgetting to call .close()\n",
        "\n",
        "File corruption or memory leaks\n",
        "\n",
        "✅ Basic Example\n"
      ],
      "metadata": {
        "id": "OrHgTX7vOe4s"
      }
    },
    {
      "cell_type": "code",
      "source": [
        "with open(\"example.txt\", \"r\") as file:\n",
        "    content = file.read()\n",
        "    print(content)\n"
      ],
      "metadata": {
        "colab": {
          "base_uri": "https://localhost:8080/",
          "height": 176
        },
        "id": "vOhGU8TJOv9u",
        "outputId": "9f24c563-c9ce-4dd2-b630-0049a7c8027d"
      },
      "execution_count": null,
      "outputs": [
        {
          "output_type": "error",
          "ename": "FileNotFoundError",
          "evalue": "[Errno 2] No such file or directory: 'example.txt'",
          "traceback": [
            "\u001b[0;31m---------------------------------------------------------------------------\u001b[0m",
            "\u001b[0;31mFileNotFoundError\u001b[0m                         Traceback (most recent call last)",
            "\u001b[0;32m<ipython-input-16-ce2abfb6be13>\u001b[0m in \u001b[0;36m<cell line: 0>\u001b[0;34m()\u001b[0m\n\u001b[0;32m----> 1\u001b[0;31m \u001b[0;32mwith\u001b[0m \u001b[0mopen\u001b[0m\u001b[0;34m(\u001b[0m\u001b[0;34m\"example.txt\"\u001b[0m\u001b[0;34m,\u001b[0m \u001b[0;34m\"r\"\u001b[0m\u001b[0;34m)\u001b[0m \u001b[0;32mas\u001b[0m \u001b[0mfile\u001b[0m\u001b[0;34m:\u001b[0m\u001b[0;34m\u001b[0m\u001b[0;34m\u001b[0m\u001b[0m\n\u001b[0m\u001b[1;32m      2\u001b[0m     \u001b[0mcontent\u001b[0m \u001b[0;34m=\u001b[0m \u001b[0mfile\u001b[0m\u001b[0;34m.\u001b[0m\u001b[0mread\u001b[0m\u001b[0;34m(\u001b[0m\u001b[0;34m)\u001b[0m\u001b[0;34m\u001b[0m\u001b[0;34m\u001b[0m\u001b[0m\n\u001b[1;32m      3\u001b[0m     \u001b[0mprint\u001b[0m\u001b[0;34m(\u001b[0m\u001b[0mcontent\u001b[0m\u001b[0;34m)\u001b[0m\u001b[0;34m\u001b[0m\u001b[0;34m\u001b[0m\u001b[0m\n",
            "\u001b[0;31mFileNotFoundError\u001b[0m: [Errno 2] No such file or directory: 'example.txt'"
          ]
        }
      ]
    },
    {
      "cell_type": "code",
      "source": [
        "file = open(\"example.txt\", \"r\")\n",
        "try:\n",
        "    content = file.read()\n",
        "    print(content)\n",
        "finally:\n",
        "    file.close()\n"
      ],
      "metadata": {
        "colab": {
          "base_uri": "https://localhost:8080/",
          "height": 211
        },
        "id": "V9wThX_dOySp",
        "outputId": "9490fbad-e301-47f3-817d-83016fe5a689"
      },
      "execution_count": null,
      "outputs": [
        {
          "output_type": "error",
          "ename": "FileNotFoundError",
          "evalue": "[Errno 2] No such file or directory: 'example.txt'",
          "traceback": [
            "\u001b[0;31m---------------------------------------------------------------------------\u001b[0m",
            "\u001b[0;31mFileNotFoundError\u001b[0m                         Traceback (most recent call last)",
            "\u001b[0;32m<ipython-input-17-492e2bc568ba>\u001b[0m in \u001b[0;36m<cell line: 0>\u001b[0;34m()\u001b[0m\n\u001b[0;32m----> 1\u001b[0;31m \u001b[0mfile\u001b[0m \u001b[0;34m=\u001b[0m \u001b[0mopen\u001b[0m\u001b[0;34m(\u001b[0m\u001b[0;34m\"example.txt\"\u001b[0m\u001b[0;34m,\u001b[0m \u001b[0;34m\"r\"\u001b[0m\u001b[0;34m)\u001b[0m\u001b[0;34m\u001b[0m\u001b[0;34m\u001b[0m\u001b[0m\n\u001b[0m\u001b[1;32m      2\u001b[0m \u001b[0;32mtry\u001b[0m\u001b[0;34m:\u001b[0m\u001b[0;34m\u001b[0m\u001b[0;34m\u001b[0m\u001b[0m\n\u001b[1;32m      3\u001b[0m     \u001b[0mcontent\u001b[0m \u001b[0;34m=\u001b[0m \u001b[0mfile\u001b[0m\u001b[0;34m.\u001b[0m\u001b[0mread\u001b[0m\u001b[0;34m(\u001b[0m\u001b[0;34m)\u001b[0m\u001b[0;34m\u001b[0m\u001b[0;34m\u001b[0m\u001b[0m\n\u001b[1;32m      4\u001b[0m     \u001b[0mprint\u001b[0m\u001b[0;34m(\u001b[0m\u001b[0mcontent\u001b[0m\u001b[0;34m)\u001b[0m\u001b[0;34m\u001b[0m\u001b[0;34m\u001b[0m\u001b[0m\n\u001b[1;32m      5\u001b[0m \u001b[0;32mfinally\u001b[0m\u001b[0;34m:\u001b[0m\u001b[0;34m\u001b[0m\u001b[0;34m\u001b[0m\u001b[0m\n",
            "\u001b[0;31mFileNotFoundError\u001b[0m: [Errno 2] No such file or directory: 'example.txt'"
          ]
        }
      ]
    },
    {
      "cell_type": "markdown",
      "source": [
        "\n",
        "🧠 Key Advantages\n",
        "Feature\twith Statement\tManual File Handling\n",
        "Automatically closes file\t✅ Yes\t❌ Must be done manually\n",
        "Safer on exceptions\t✅ Yes\t❌ Can leave file open\n",
        "Cleaner and shorter syntax\t✅ Yes\t❌ More verbose\n",
        "\n",
        "📝 Writing to a File with with\n"
      ],
      "metadata": {
        "id": "9D2M3GVeOiDR"
      }
    },
    {
      "cell_type": "code",
      "source": [
        "with open(\"output.txt\", \"w\") as f:\n",
        "    f.write(\"Hello, world!\")\n"
      ],
      "metadata": {
        "id": "uIevQLaAO_fB"
      },
      "execution_count": null,
      "outputs": []
    },
    {
      "cell_type": "markdown",
      "source": [
        "🔁 Multiple Files\n",
        "You can open multiple files in a single with statement:"
      ],
      "metadata": {
        "id": "zrfKBuvLPDuQ"
      }
    },
    {
      "cell_type": "code",
      "source": [
        "with open(\"input.txt\", \"r\") as infile, open(\"output.txt\", \"w\") as outfile:\n",
        "    data = infile.read()\n",
        "    outfile.write(data)\n"
      ],
      "metadata": {
        "colab": {
          "base_uri": "https://localhost:8080/",
          "height": 176
        },
        "id": "lyEsXbPpPEtC",
        "outputId": "0edd2f7d-c5e5-4209-d507-20363507ab72"
      },
      "execution_count": null,
      "outputs": [
        {
          "output_type": "error",
          "ename": "FileNotFoundError",
          "evalue": "[Errno 2] No such file or directory: 'input.txt'",
          "traceback": [
            "\u001b[0;31m---------------------------------------------------------------------------\u001b[0m",
            "\u001b[0;31mFileNotFoundError\u001b[0m                         Traceback (most recent call last)",
            "\u001b[0;32m<ipython-input-19-66225b9fe6b4>\u001b[0m in \u001b[0;36m<cell line: 0>\u001b[0;34m()\u001b[0m\n\u001b[0;32m----> 1\u001b[0;31m \u001b[0;32mwith\u001b[0m \u001b[0mopen\u001b[0m\u001b[0;34m(\u001b[0m\u001b[0;34m\"input.txt\"\u001b[0m\u001b[0;34m,\u001b[0m \u001b[0;34m\"r\"\u001b[0m\u001b[0;34m)\u001b[0m \u001b[0;32mas\u001b[0m \u001b[0minfile\u001b[0m\u001b[0;34m,\u001b[0m \u001b[0mopen\u001b[0m\u001b[0;34m(\u001b[0m\u001b[0;34m\"output.txt\"\u001b[0m\u001b[0;34m,\u001b[0m \u001b[0;34m\"w\"\u001b[0m\u001b[0;34m)\u001b[0m \u001b[0;32mas\u001b[0m \u001b[0moutfile\u001b[0m\u001b[0;34m:\u001b[0m\u001b[0;34m\u001b[0m\u001b[0;34m\u001b[0m\u001b[0m\n\u001b[0m\u001b[1;32m      2\u001b[0m     \u001b[0mdata\u001b[0m \u001b[0;34m=\u001b[0m \u001b[0minfile\u001b[0m\u001b[0;34m.\u001b[0m\u001b[0mread\u001b[0m\u001b[0;34m(\u001b[0m\u001b[0;34m)\u001b[0m\u001b[0;34m\u001b[0m\u001b[0;34m\u001b[0m\u001b[0m\n\u001b[1;32m      3\u001b[0m     \u001b[0moutfile\u001b[0m\u001b[0;34m.\u001b[0m\u001b[0mwrite\u001b[0m\u001b[0;34m(\u001b[0m\u001b[0mdata\u001b[0m\u001b[0;34m)\u001b[0m\u001b[0;34m\u001b[0m\u001b[0;34m\u001b[0m\u001b[0m\n",
            "\u001b[0;31mFileNotFoundError\u001b[0m: [Errno 2] No such file or directory: 'input.txt'"
          ]
        }
      ]
    },
    {
      "cell_type": "markdown",
      "source": [
        "9) What is the difference between multithreading and multiprocessing?\n",
        "\n",
        "Ans:- ⚙️ What Is the Difference Between Multithreading and Multiprocessing in Python?\n",
        "Both multithreading and multiprocessing are techniques used to perform concurrent (parallel or overlapping) execution in Python, but they differ in how they utilize system resources and handle tasks.\n",
        "\n",
        "🧵 1. Multithreading\n",
        "Uses multiple threads within a single process.\n",
        "\n",
        "Threads share memory space.\n",
        "\n",
        "Good for I/O-bound tasks (e.g. file I/O, network calls).\n",
        "\n",
        "🔧 Example Use Cases:\n",
        "Downloading files\n",
        "\n",
        "Reading/writing databases\n",
        "\n",
        "Handling multiple web requests\n",
        "\n",
        "✅ Pros:\n",
        "Lower memory usage (threads share memory)\n",
        "\n",
        "Lightweight and fast context switching\n",
        "\n",
        "❌ Cons:\n",
        "Limited by the Global Interpreter Lock (GIL) in CPython, so CPU-bound tasks do not gain performance.\n",
        "\n",
        "🧠 2. Multiprocessing\n",
        "Uses multiple processes, each with its own memory space.\n",
        "\n",
        "Good for CPU-bound tasks (e.g. number crunching, data processing).\n",
        "\n",
        "🔧 Example Use Cases:\n",
        "Image processing\n",
        "\n",
        "Large-scale computations\n",
        "\n",
        "Machine learning model training\n",
        "\n",
        "✅ Pros:\n",
        "Fully utilizes multiple CPU cores\n",
        "\n",
        "Bypasses the GIL, giving true parallelism\n",
        "\n",
        "❌ Cons:\n",
        "Higher memory usage (no shared memory)\n",
        "\n",
        "Slower startup and inter-process communication\n",
        "\n",
        "🔄 Summary Table\n",
        "Feature\tMultithreading\tMultiprocessing\n",
        "Execution model\tMultiple threads in one process\tMultiple independent processes\n",
        "Memory sharing\tShared memory\tSeparate memory\n",
        "Best for\tI/O-bound tasks\tCPU-bound tasks\n",
        "GIL limitations\tYes (in CPython)\tNo\n",
        "Performance boost\tLimited for CPU tasks\tGreat for CPU tasks\n",
        "Communication\tEasier (shared memory)\tHarder (use pipes/queues)\n",
        "\n",
        "🧪 Code Example (Simplified)\n",
        "Multithreading:\n",
        "\n"
      ],
      "metadata": {
        "id": "UBFpsmAaPH18"
      }
    },
    {
      "cell_type": "code",
      "source": [
        "import threading\n",
        "\n",
        "def task():\n",
        "    print(\"Thread running\")\n",
        "\n",
        "thread = threading.Thread(target=task)\n",
        "thread.start()\n"
      ],
      "metadata": {
        "colab": {
          "base_uri": "https://localhost:8080/"
        },
        "id": "XxjvDvb_PcZu",
        "outputId": "31920c4e-eea0-4b64-9f8d-80f44fced844"
      },
      "execution_count": null,
      "outputs": [
        {
          "output_type": "stream",
          "name": "stdout",
          "text": [
            "Thread running\n"
          ]
        }
      ]
    },
    {
      "cell_type": "code",
      "source": [
        "import multiprocessing\n",
        "\n",
        "def task():\n",
        "    print(\"Process running\")\n",
        "\n",
        "process = multiprocessing.Process(target=task)\n",
        "process.start()\n"
      ],
      "metadata": {
        "id": "ZBj94C4SPfZq"
      },
      "execution_count": null,
      "outputs": []
    },
    {
      "cell_type": "markdown",
      "source": [
        "\n",
        "📝 Conclusion\n",
        "Use multithreading when your program waits for I/O (files, APIs, etc.).\n",
        "\n",
        "Use multiprocessing when you need real parallelism for CPU-heavy tasks.\n",
        "\n",
        "10) What are the advantages of using logging in a program?\n",
        "\n",
        "Ans:- ✅ Advantages of Using Logging in a Program\n",
        "Logging is a powerful tool in Python (and most programming languages) that provides structured, flexible, and persistent ways to record the behavior of your application. It goes far beyond simple print() statements.\n",
        "\n",
        "Here are the key advantages of using logging:\n",
        "\n",
        "🧠 1. Debugging Support\n",
        "Logs help track what went wrong and where in the code.\n",
        "\n",
        "You can keep a record of variable values, flow of execution, and errors.\n",
        "\n",
        "🔍 Example: Instead of using print(x), use logging.debug(f\"x value: {x}\")\n",
        "\n",
        "📊 2. Monitoring & Maintenance\n",
        "Logging provides visibility into live applications.\n",
        "\n",
        "You can monitor behavior, performance, and errors in real-time or through log files.\n",
        "\n",
        "Useful in production environments where you can’t just print to the console.\n",
        "\n",
        "🪪 3. Audit Trail\n",
        "Logs create a historical record of activity, useful for auditing actions, especially in secure or regulated environments.\n",
        "\n",
        "E.g., Tracking login attempts, financial transactions, or API usage.\n",
        "\n",
        "🛠️ 4. Error Tracking & Alerting\n",
        "Logs can be used to detect critical failures, generate alerts, or send notifications to admins.\n",
        "\n",
        "E.g., Log a CRITICAL event if a database connection fails.\n",
        "\n",
        "🎚️ 5. Different Levels of Importance\n",
        "Logging supports multiple severity levels:\n",
        "\n",
        "DEBUG, INFO, WARNING, ERROR, CRITICAL\n",
        "\n",
        "Helps categorize and filter messages easily.\n",
        "\n",
        "You can log everything during development (DEBUG) and only ERROR in production.\n",
        "\n",
        "🧱 6. Configurable & Flexible\n",
        "You can:\n",
        "\n",
        "Output logs to files, console, or even remote servers\n",
        "\n",
        "Set formats, timestamps, and custom handlers\n",
        "\n",
        "Example: Log to a file with a specific format using basicConfig().\n",
        "\n",
        "🪟 7. Non-Intrusive\n",
        "Logging doesn’t interfere with normal program output (unlike print()), making it suitable for both development and production.\n",
        "\n",
        "💡 Summary Table\n",
        "Advantage\tDescription\n",
        "Debugging\tHelps identify bugs and errors\n",
        "Monitoring\tTracks application behavior over time\n",
        "Auditability\tProvides a traceable record of actions\n",
        "Configurability\tSupports custom formats, destinations, and filters\n",
        "Severity Control\tAllows filtering by importance (e.g., only log errors)\n",
        "Production Readiness\tPreferred over print() in real-world applications\n",
        "\n",
        "🔚 Conclusion\n",
        "Logging is an essential tool for building robust, maintainable, and professional software. It gives you deep insight into what your code is doing, especially in complex or deployed systems.\n",
        "\n",
        "Would you like help setting up a logging configuration for your project?\n",
        "\n",
        "\n",
        "\n",
        "\n",
        "11) What is memory management in Python?\n",
        "\n",
        "Ans:-  :\n",
        "🧠 What Is Memory Management in Python?\n",
        "Memory management in Python refers to the process of allocating and deallocating memory to store objects and data during the execution of a Python program. Python handles most of the memory management automatically, but understanding its internal mechanisms can help optimize performance and prevent memory-related issues.\n",
        "\n",
        "🛠️ How Does Memory Management Work in Python?\n",
        "Python uses a combination of automatic garbage collection and reference counting to manage memory.\n",
        "\n",
        "1. Memory Allocation\n",
        "When you create objects in Python (like lists, dictionaries, or custom classes), the Python memory manager allocates space for them.\n",
        "\n",
        "Every Python object has a header containing important information like its type, reference count, and more.\n",
        "\n",
        "Memory is managed in blocks (chunks of memory) and Python uses a specialized heap to allocate memory for objects.\n",
        "\n",
        "2. Reference Counting\n",
        "Python tracks the number of references (or pointers) to an object using reference counting.\n",
        "\n",
        "Every object has a reference count, which is incremented when a reference to it is created and decremented when the reference is deleted.\n",
        "\n",
        "When the reference count reaches zero, meaning no one is using the object, Python automatically frees the memory.\n",
        "\n",
        "Example:\n",
        "\n"
      ],
      "metadata": {
        "id": "zwYQ4ReJPh_N"
      }
    },
    {
      "cell_type": "code",
      "source": [
        "a = [1, 2, 3]  # Reference count for this list is 1\n",
        "b = a           # Reference count becomes 2\n",
        "del a           # Reference count becomes 1\n",
        "del b           # Reference count becomes 0, object is deallocated\n"
      ],
      "metadata": {
        "id": "2e5ZLhivQMyh"
      },
      "execution_count": null,
      "outputs": []
    },
    {
      "cell_type": "markdown",
      "source": [
        "3. Garbage Collection (GC)\n",
        "Although reference counting handles most objects, it doesn’t deal well with circular references (when objects reference each other in a cycle). This is where garbage collection (GC) comes in.\n",
        "\n",
        "GC is a process that periodically looks for circular references and frees memory used by objects that are no longer reachable.\n",
        "\n",
        "Python uses the gc module to manage the garbage collection process.\n",
        "\n",
        "🔄 How the Garbage Collection Works\n",
        "Python organizes objects into generations (young, middle-aged, old).\n",
        "\n",
        "Younger objects are collected more frequently.\n",
        "\n",
        "When an object survives multiple collection cycles, it moves to an older generation, where it is collected less often.\n",
        "\n",
        "Circular references (e.g., when two objects reference each other) are detected by the garbage collector, and memory is freed.\n",
        "\n",
        "🧮 Python Memory Management in Detail\n",
        "1. Memory Pools & Blocks\n",
        "Python uses a memory pool system (also called pymalloc) to allocate small objects efficiently.\n",
        "\n",
        "Small objects are managed in blocks (usually of 256 bytes).\n",
        "\n",
        "Larger objects (e.g., large lists or strings) are allocated differently.\n",
        "\n",
        "2. Memory Leaks\n",
        "Although Python’s garbage collection and reference counting system prevent many memory leaks, poorly managed references (e.g., circular references not handled by GC) can still cause memory leaks. Tools like the gc module or third-party tools (e.g., objgraph) can help detect these.\n",
        "\n",
        "✅ How Python Automatically Handles Memory Management\n",
        "Automatic allocation and deallocation: Python takes care of memory allocation and cleanup without requiring manual intervention.\n",
        "\n",
        "Reference counting: Memory is freed when objects are no longer needed.\n",
        "\n",
        "Garbage collection: The garbage collector handles complex cases, such as circular references, ensuring that memory is cleaned up even when objects reference each other.\n",
        "\n",
        "\n",
        "12)  What are the basic steps involved in exception handling in Python?\n",
        "\n",
        "Ans:- 🚨 Basic Steps Involved in Exception Handling in Python\n",
        "Exception handling in Python allows you to gracefully handle errors, ensuring that your program doesn't crash unexpectedly. The key steps in exception handling involve using the try, except, else, and finally blocks.\n",
        "\n",
        "1. The try Block\n",
        "The try block contains the code that might raise an exception. It's the code that you're \"trying\" to run and might need to handle if something goes wrong.\n"
      ],
      "metadata": {
        "id": "lwmsCc9YQO4i"
      }
    },
    {
      "cell_type": "code",
      "source": [
        "try:\n",
        "    result = 10 / 0  # This will raise a ZeroDivisionError\n",
        "except ZeroDivisionError:\n",
        "    print(\"Cannot divide by zero\")"
      ],
      "metadata": {
        "colab": {
          "base_uri": "https://localhost:8080/"
        },
        "id": "VdupuzG7Qwch",
        "outputId": "7d6720fd-21fa-44ce-d3c3-9d3318f643bf"
      },
      "execution_count": null,
      "outputs": [
        {
          "output_type": "stream",
          "name": "stdout",
          "text": [
            "Cannot divide by zero\n"
          ]
        }
      ]
    },
    {
      "cell_type": "markdown",
      "source": [
        "2. The except Block\n",
        "The except block is where you handle the exception. If an exception occurs in the try block, Python will immediately jump to the appropriate except block to handle the error.\n",
        "\n",
        "You can catch specific exceptions or a general exception.\n",
        "\n",
        "Catch a specific exception:\n"
      ],
      "metadata": {
        "id": "NR2Vsf6fQ269"
      }
    },
    {
      "cell_type": "code",
      "source": [
        "try:\n",
        "    result = 10 / 0\n",
        "except ZeroDivisionError:\n",
        "    print(\"You can't divide by zero!\")\n"
      ],
      "metadata": {
        "colab": {
          "base_uri": "https://localhost:8080/"
        },
        "id": "Yn-0UaM8Q389",
        "outputId": "9569e355-af62-434b-e3b4-e8e0e7b2b367"
      },
      "execution_count": null,
      "outputs": [
        {
          "output_type": "stream",
          "name": "stdout",
          "text": [
            "You can't divide by zero!\n"
          ]
        }
      ]
    },
    {
      "cell_type": "code",
      "source": [
        "try:\n",
        "    result = 10 / 0\n",
        "except Exception as e:\n",
        "    print(f\"An error occurred: {e}\")\n"
      ],
      "metadata": {
        "colab": {
          "base_uri": "https://localhost:8080/"
        },
        "id": "zA3QvpeVQ6gB",
        "outputId": "c2e6979b-20d2-41fa-e88f-4ab22ea2bdd1"
      },
      "execution_count": null,
      "outputs": [
        {
          "output_type": "stream",
          "name": "stdout",
          "text": [
            "An error occurred: division by zero\n"
          ]
        }
      ]
    },
    {
      "cell_type": "markdown",
      "source": [
        "3. The else Block (Optional)\n",
        "The else block is executed if no exceptions are raised in the try block. It's useful for code that should run only when no errors occur.\n"
      ],
      "metadata": {
        "id": "m_H7uYoxQ8k4"
      }
    },
    {
      "cell_type": "code",
      "source": [
        "try:\n",
        "    result = 10 / 2\n",
        "except ZeroDivisionError:\n",
        "    print(\"Cannot divide by zero!\")\n",
        "else:\n",
        "    print(f\"Result: {result}\")\n"
      ],
      "metadata": {
        "colab": {
          "base_uri": "https://localhost:8080/"
        },
        "id": "ncZplZAxRAaw",
        "outputId": "5a99cb48-9034-40cb-9023-6fa97e23bf0c"
      },
      "execution_count": null,
      "outputs": [
        {
          "output_type": "stream",
          "name": "stdout",
          "text": [
            "Result: 5.0\n"
          ]
        }
      ]
    },
    {
      "cell_type": "markdown",
      "source": [
        "4. The finally Block (Optional)\n",
        "The finally block runs no matter what, whether an exception was raised or not. It is often used for cleanup activities like closing files or releasing resources."
      ],
      "metadata": {
        "id": "z3MNxuWtRDDu"
      }
    },
    {
      "cell_type": "code",
      "source": [
        "try:\n",
        "    file = open(\"test.txt\", \"r\")\n",
        "    data = file.read()\n",
        "except FileNotFoundError:\n",
        "    print(\"File not found!\")\n",
        "finally:\n",
        "    file.close()  # This will always be executed, even if an exception occurred\n"
      ],
      "metadata": {
        "colab": {
          "base_uri": "https://localhost:8080/",
          "height": 193
        },
        "id": "HIYOReNERPdU",
        "outputId": "e89dffc7-b63e-4ec2-f301-a109cb9daec0"
      },
      "execution_count": null,
      "outputs": [
        {
          "output_type": "stream",
          "name": "stdout",
          "text": [
            "File not found!\n"
          ]
        },
        {
          "output_type": "error",
          "ename": "NameError",
          "evalue": "name 'file' is not defined",
          "traceback": [
            "\u001b[0;31m---------------------------------------------------------------------------\u001b[0m",
            "\u001b[0;31mNameError\u001b[0m                                 Traceback (most recent call last)",
            "\u001b[0;32m<ipython-input-28-3ad800daa4a8>\u001b[0m in \u001b[0;36m<cell line: 0>\u001b[0;34m()\u001b[0m\n\u001b[1;32m      5\u001b[0m     \u001b[0mprint\u001b[0m\u001b[0;34m(\u001b[0m\u001b[0;34m\"File not found!\"\u001b[0m\u001b[0;34m)\u001b[0m\u001b[0;34m\u001b[0m\u001b[0;34m\u001b[0m\u001b[0m\n\u001b[1;32m      6\u001b[0m \u001b[0;32mfinally\u001b[0m\u001b[0;34m:\u001b[0m\u001b[0;34m\u001b[0m\u001b[0;34m\u001b[0m\u001b[0m\n\u001b[0;32m----> 7\u001b[0;31m     \u001b[0mfile\u001b[0m\u001b[0;34m.\u001b[0m\u001b[0mclose\u001b[0m\u001b[0;34m(\u001b[0m\u001b[0;34m)\u001b[0m  \u001b[0;31m# This will always be executed, even if an exception occurred\u001b[0m\u001b[0;34m\u001b[0m\u001b[0;34m\u001b[0m\u001b[0m\n\u001b[0m",
            "\u001b[0;31mNameError\u001b[0m: name 'file' is not defined"
          ]
        }
      ]
    },
    {
      "cell_type": "code",
      "source": [
        "try:\n",
        "    num = int(input(\"Enter a number: \"))\n",
        "    result = 10 / num\n",
        "except ValueError:\n",
        "    print(\"That's not a valid number!\")\n",
        "except ZeroDivisionError:\n",
        "    print(\"You can't divide by zero!\")\n",
        "else:\n",
        "    print(f\"The result is: {result}\")\n",
        "finally:\n",
        "    print(\"This will always execute.\")\n"
      ],
      "metadata": {
        "colab": {
          "base_uri": "https://localhost:8080/"
        },
        "id": "qJAO_YjmRUfq",
        "outputId": "b66613fc-6006-4ac8-e30b-9523bf7869b7"
      },
      "execution_count": null,
      "outputs": [
        {
          "output_type": "stream",
          "name": "stdout",
          "text": [
            "Enter a number: 11\n",
            "The result is: 0.9090909090909091\n",
            "This will always execute.\n"
          ]
        }
      ]
    },
    {
      "cell_type": "markdown",
      "source": [
        "13) Why is memory management important in Python?\n",
        "\n",
        "Ans:- :\n",
        "💡 Why Is Memory Management Important in Python?\n",
        "Memory management is crucial for any programming language, and Python is no exception. Proper memory management ensures that your Python program runs efficiently, doesn’t consume unnecessary resources, and avoids issues like memory leaks or crashes.\n",
        "\n",
        "Here’s why memory management is important in Python:\n",
        "\n",
        "1. Efficient Resource Usage\n",
        "Memory management ensures that resources (memory) are allocated and deallocated appropriately. Without efficient memory management, your program might use excessive memory or leave unused memory hanging around, which could degrade performance over time.\n",
        "\n",
        "Example: If a program creates many objects but doesn’t release them, it can cause the system to run out of memory.\n",
        "\n",
        "2. Prevention of Memory Leaks\n",
        "A memory leak happens when memory that is no longer needed is not properly released. Over time, this can cause the program to consume more and more memory until the system runs out, potentially leading to crashes or poor performance.\n",
        "\n",
        "Python’s memory management system (using garbage collection and reference counting) helps automatically clean up unused objects to prevent memory leaks.\n",
        "\n",
        "Example: Circular references between objects can lead to memory leaks if not handled by the garbage collector.\n",
        "\n",
        "3. Improved Performance\n",
        "Efficient memory management leads to better performance because memory is used only when needed, and unnecessary memory usage is avoided. This can result in faster execution times, especially for memory-intensive programs.\n",
        "\n",
        "Example: Properly managing memory when processing large datasets allows for smoother execution and avoids running out of memory.\n",
        "\n",
        "4. Automatic Garbage Collection\n",
        "Python’s garbage collection system helps automatically handle the cleanup of objects that are no longer needed. Without this, developers would need to manually manage object lifecycle, which is both time-consuming and error-prone.\n",
        "\n",
        "Python uses reference counting and cyclic garbage collection to keep track of memory and automatically free up space when objects are no longer in use.\n",
        "\n",
        "5. Object Lifetime Control\n",
        "Memory management in Python ensures that objects are destroyed or cleaned up when their lifetime ends. This helps to prevent dangling references (references to objects that no longer exist) and potential undefined behavior.\n",
        "\n",
        "The __del__ method in Python can be used to specify cleanup actions before an object is destroyed, which can help with freeing up additional resources (like file handles or network connections).\n",
        "\n",
        "6. Managing Large Data in Memory\n",
        "For programs dealing with large datasets (like in machine learning, data analysis, or image processing), efficient memory management becomes even more critical. Without proper memory management, such programs might encounter memory exhaustion, slowing down or crashing.\n",
        "\n",
        "Example: Using del to remove large objects when they are no longer needed can help avoid memory bloat.\n",
        "\n",
        "7. Avoiding Program Crashes\n",
        "When your program runs out of memory, it can crash or behave unpredictably. Proper memory management helps avoid these crashes by releasing memory when it's no longer needed and ensuring that there is enough available memory to continue executing the program.\n",
        "\n",
        "📊 Key Benefits of Memory Management in Python\n",
        "Benefit\tDescription\n",
        "Efficient Resource Usage\tUses memory optimally to avoid unnecessary consumption.\n",
        "Prevention of Memory Leaks\tCleans up memory to avoid programs consuming more memory than needed.\n",
        "Improved Performance\tReduces memory overhead, leading to faster execution.\n",
        "Automatic Cleanup\tPython’s garbage collector handles unused objects.\n",
        "Handling Large Datasets\tCrucial for programs with large memory requirements.\n",
        "Avoiding Crashes\tPrevents running out of memory, thus avoiding program crashes.\n",
        "\n",
        "🧠 Conclusion\n",
        "Memory management in Python is essential for creating efficient, stable, and high-performance applications.\n",
        "\n",
        "Python automatically handles most of the memory management tasks via garbage collection and reference counting, but developers must still be mindful of how they use memory, especially in memory-intensive applications.\n",
        "\n",
        "Good memory management ensures that programs run smoothly without consuming excessive system resources or leading to crashes.\n",
        "\n",
        "\n",
        "14)  What is the role of try and except in exception handling?\n",
        "\n",
        "Ans:- :\n",
        "🎯 What Is the Role of try and except in Exception Handling?\n",
        "In Python, the try and except blocks are the fundamental components of exception handling. They allow you to anticipate and handle errors (exceptions) that may occur during the execution of your program. This prevents your program from crashing unexpectedly and helps manage errors in a controlled manner.\n",
        "\n",
        "1. The Role of the try Block\n",
        "The try block is where you write the code that might raise an exception (error). It's the part of the program where you \"try\" to run something that could go wrong.\n",
        "\n",
        "If the code inside the try block runs without error, the program will continue normally.\n",
        "\n",
        "If an error occurs, Python will stop executing the try block and jump to the corresponding except block.\n",
        "\n",
        "Example:\n"
      ],
      "metadata": {
        "id": "fqfpeZ_vRRVH"
      }
    },
    {
      "cell_type": "code",
      "source": [
        "try:\n",
        "    num = 10 / 2  # This will not raise an error\n",
        "    print(\"Result:\", num)\n",
        "except ZeroDivisionError:\n",
        "    print(\"Error: Division by zero occurred.\")"
      ],
      "metadata": {
        "colab": {
          "base_uri": "https://localhost:8080/"
        },
        "id": "hM-zGLvMSmbm",
        "outputId": "52f05d11-7f18-4265-c81b-fe99a7c3613b"
      },
      "execution_count": null,
      "outputs": [
        {
          "output_type": "stream",
          "name": "stdout",
          "text": [
            "Result: 5.0\n"
          ]
        }
      ]
    },
    {
      "cell_type": "markdown",
      "source": [
        "2. The Role of the except Block\n",
        "The except block is responsible for catching and handling the exception that occurs in the try block. If an error occurs in the try block, Python will \"jump\" to the except block to handle the issue and prevent the program from crashing.\n",
        "\n",
        "You can catch specific exceptions or use a generic exception handler.\n",
        "\n",
        "Catching Specific Exceptions\n"
      ],
      "metadata": {
        "id": "Ysi8RBIiS5WV"
      }
    },
    {
      "cell_type": "code",
      "source": [
        "try:\n",
        "    result = 10 / 0  # This will raise a ZeroDivisionError\n",
        "except ZeroDivisionError:\n",
        "    print(\"Error: You can't divide by zero!\")\n"
      ],
      "metadata": {
        "colab": {
          "base_uri": "https://localhost:8080/"
        },
        "id": "AEzuBkXmS7Ax",
        "outputId": "3d4c35c1-162e-493a-ab00-c39c093c61c5"
      },
      "execution_count": null,
      "outputs": [
        {
          "output_type": "stream",
          "name": "stdout",
          "text": [
            "Error: You can't divide by zero!\n"
          ]
        }
      ]
    },
    {
      "cell_type": "markdown",
      "source": [
        "Catching Any Exception\n",
        "You can catch all exceptions using a generic Exception class, though it’s usually better to catch specific exceptions whenever possible."
      ],
      "metadata": {
        "id": "mZc4L7ouS_Y9"
      }
    },
    {
      "cell_type": "code",
      "source": [
        "try:\n",
        "    result = 10 / 0\n",
        "except Exception as e:\n",
        "    print(f\"An error occurred: {e}\")\n"
      ],
      "metadata": {
        "colab": {
          "base_uri": "https://localhost:8080/"
        },
        "id": "TMj29PPmTAMQ",
        "outputId": "4a793fa4-c5bb-42b2-bd87-3f6b6520e9ce"
      },
      "execution_count": null,
      "outputs": [
        {
          "output_type": "stream",
          "name": "stdout",
          "text": [
            "An error occurred: division by zero\n"
          ]
        }
      ]
    },
    {
      "cell_type": "markdown",
      "source": [
        "How try and except Work Together\n",
        "try block: Contains the code you suspect could raise an exception.\n",
        "\n",
        "except block: Catches and handles the exception if it occurs.\n",
        "\n",
        "If no exception occurs in the try block, the except block is skipped.\n",
        "\n",
        "If an exception occurs, the except block handles it based on the type of exception.\n",
        "\n",
        "Example with Multiple Exceptions\n"
      ],
      "metadata": {
        "id": "LYMmjDFjTGTg"
      }
    },
    {
      "cell_type": "code",
      "source": [
        "try:\n",
        "    num = int(input(\"Enter a number: \"))  # Might raise ValueError if input is not a number\n",
        "    result = 10 / num  # Might raise ZeroDivisionError if num is zero\n",
        "except ValueError:\n",
        "    print(\"That's not a valid number!\")\n",
        "except ZeroDivisionError:\n",
        "    print(\"You can't divide by zero!\")\n",
        "except Exception as e:  # Catch any other exceptions\n",
        "    print(f\"An unexpected error occurred: {e}\")\n"
      ],
      "metadata": {
        "colab": {
          "base_uri": "https://localhost:8080/"
        },
        "id": "Nq9TC_F9THcU",
        "outputId": "eaadc33a-efb8-409f-d56b-d9a656cfadcd"
      },
      "execution_count": null,
      "outputs": [
        {
          "name": "stdout",
          "output_type": "stream",
          "text": [
            "Enter a number: 15\n"
          ]
        }
      ]
    },
    {
      "cell_type": "markdown",
      "source": [
        "15)  How does Python's garbage collection system work?\n",
        "\n",
        "Ans:-🧹 How Does Python's Garbage Collection System Work?\n",
        "Python's garbage collection (GC) system is responsible for automatically managing memory by reclaiming unused memory from objects that are no longer in use. This prevents memory leaks and ensures that resources are freed when they are no longer needed. The system works by using a combination of reference counting and cyclic garbage collection.\n",
        "\n",
        "1. Reference Counting – The Basics\n",
        "At the core of Python’s memory management is reference counting. Every object in Python has an associated reference count — a counter that tracks how many references point to the object.\n",
        "\n",
        "How Reference Counting Works:\n",
        "When you create an object, Python assigns it a reference count of 1.\n",
        "\n",
        "Every time a reference to the object is made (like assigning it to a variable or adding it to a list), the reference count is incremented.\n",
        "\n",
        "When a reference to an object is deleted or goes out of scope, the reference count is decremented.\n",
        "\n",
        "When the reference count drops to zero, meaning there are no more references to the object, Python automatically frees the memory occupied by the object.\n",
        "\n",
        "Example of Reference Counting:\n"
      ],
      "metadata": {
        "id": "XCBo4LBkTO3S"
      }
    },
    {
      "cell_type": "code",
      "source": [
        "a = [1, 2, 3]  # Reference count = 1\n",
        "b = a           # Reference count = 2\n",
        "del a           # Reference count = 1\n",
        "del b           # Reference count = 0, object is deallocated\n"
      ],
      "metadata": {
        "id": "n1YyAmReTfYS"
      },
      "execution_count": null,
      "outputs": []
    },
    {
      "cell_type": "markdown",
      "source": [
        "Note: Reference counting works well for many cases, but it can’t handle circular references (when two or more objects reference each other, causing the reference count to never reach zero).\n",
        "\n",
        "2. Cyclic Garbage Collection\n",
        "To deal with circular references (i.e., when objects reference each other in a loop), Python uses cyclic garbage collection in addition to reference counting.\n",
        "\n",
        "What is Cyclic Garbage Collection?\n",
        "Cyclic garbage collection is a mechanism that detects and handles objects involved in circular references.\n",
        "\n",
        "The garbage collector periodically identifies groups of objects that reference each other and are no longer reachable from the rest of the program. It then frees the memory occupied by these objects.\n",
        "\n",
        "Example of Circular References:\n"
      ],
      "metadata": {
        "id": "GE3w6vOhTnAr"
      }
    },
    {
      "cell_type": "code",
      "source": [
        "class Node:\n",
        "    def __init__(self, value):\n",
        "        self.value = value\n",
        "        self.next = None\n",
        "\n",
        "# Create a circular reference\n",
        "node1 = Node(1)\n",
        "node2 = Node(2)\n",
        "node1.next = node2\n",
        "node2.next = node1  # node1 and node2 reference each other\n"
      ],
      "metadata": {
        "id": "lUNwZCK8TqhK"
      },
      "execution_count": null,
      "outputs": []
    },
    {
      "cell_type": "markdown",
      "source": [
        "In this example, even though node1 and node2 are no longer accessible from the program, they will not be deallocated immediately due to the circular reference between them. The garbage collector detects this and cleans them up.\n",
        "\n",
        "3. Generational Garbage Collection\n",
        "Python's garbage collector uses a generational approach to optimize memory management and make garbage collection more efficient.\n",
        "\n",
        "Objects are grouped into three generations based on their age.\n",
        "\n",
        "Generation 0: New objects.\n",
        "\n",
        "Generation 1: Objects that have survived one garbage collection cycle.\n",
        "\n",
        "Generation 2: Objects that have survived multiple cycles.\n",
        "\n",
        "Younger objects (in Generation 0) are collected more frequently, while older objects (in Generation 2) are collected less frequently.\n",
        "\n",
        "Objects that survive garbage collection cycles are promoted to older generations.\n",
        "\n",
        "This approach reduces the overhead of collecting objects that are likely to be short-lived (such as temporary variables in loops or function calls), thus improving performance.\n",
        "\n",
        "4. Manual Garbage Collection with gc Module\n",
        "Python provides the gc module to interact with and control the garbage collection process. This allows you to perform manual garbage collection or adjust its behavior.\n",
        "\n",
        "Key functions in the gc module:\n",
        "gc.collect(): Forces the garbage collector to run and reclaim any unused memory.\n",
        "\n",
        "gc.get_count(): Returns the current number of objects in each generation.\n",
        "\n",
        "gc.get_objects(): Returns a list of all objects tracked by the garbage collector.\n",
        "\n",
        "Example of Forcing Garbage Collection:\n"
      ],
      "metadata": {
        "id": "XoLrV9azTvP9"
      }
    },
    {
      "cell_type": "code",
      "source": [
        "import gc\n",
        "\n",
        "gc.collect()  # Manually run the garbage collector\n"
      ],
      "metadata": {
        "colab": {
          "base_uri": "https://localhost:8080/"
        },
        "id": "ZVZqaAecTxe7",
        "outputId": "b6a18450-d40e-4524-878a-39c58820a3fd"
      },
      "execution_count": null,
      "outputs": [
        {
          "output_type": "execute_result",
          "data": {
            "text/plain": [
              "121"
            ]
          },
          "metadata": {},
          "execution_count": 37
        }
      ]
    },
    {
      "cell_type": "markdown",
      "source": [
        "5. When Does Garbage Collection Happen?\n",
        "Garbage collection happens automatically, but certain conditions trigger it:\n",
        "\n",
        "When the reference count drops to zero, the object is immediately deallocated.\n",
        "\n",
        "When the garbage collector runs:\n",
        "\n",
        "By default, Python runs garbage collection periodically, based on thresholds that determine when each generation is collected.\n",
        "\n",
        "For Generation 0, it happens more often (every time a certain number of allocations occur), whereas Generation 2 is collected less often.\n",
        "\n",
        "6. Impact of Garbage Collection on Performance\n",
        "While garbage collection is essential for managing memory automatically, it can sometimes introduce overhead, especially in programs that create and destroy a large number of objects. The periodic collection of garbage takes time and can cause performance hits, especially if cyclic references are present.\n",
        "\n",
        "Optimizing Garbage Collection:\n",
        "You can disable automatic garbage collection (using gc.disable()) in performance-critical sections and manually trigger collection when appropriate.\n",
        "\n",
        "Adjusting the garbage collection thresholds can also help tune performance for specific use cases.\n",
        "\n",
        "\n",
        "\n",
        "16)  What is the purpose of the else block in exception handling?\n",
        "\n",
        "Ans:-:\n",
        "🎯 Purpose of the else Block in Exception Handling\n",
        "In Python, the else block in exception handling is used to define a section of code that should only execute if no exceptions were raised in the try block. It provides a way to separate the normal flow (when everything goes smoothly) from the error-handling flow (when an exception occurs).\n",
        "\n",
        "The else block is optional, and it comes after the try and except blocks. When no exceptions are thrown in the try block, the code in the else block is executed.\n",
        "\n",
        "🛠️ How Does the else Block Work?\n",
        "The code inside the try block is executed first.\n",
        "\n",
        "If no exceptions are raised inside the try block, the else block is executed.\n",
        "\n",
        "If an exception is raised inside the try block, the except block is executed, and the else block` is skipped.\n",
        "\n",
        "Example:\n"
      ],
      "metadata": {
        "id": "hKNXFG4eTzjz"
      }
    },
    {
      "cell_type": "code",
      "source": [
        "try:\n",
        "    result = 10 / 2  # No exception occurs here\n",
        "except ZeroDivisionError:\n",
        "    print(\"You can't divide by zero!\")\n",
        "else:\n",
        "    print(\"Division was successful! The result is:\", result)\n"
      ],
      "metadata": {
        "colab": {
          "base_uri": "https://localhost:8080/"
        },
        "id": "KG2dezE_UE4L",
        "outputId": "7d89f9f5-007d-4e45-9f76-c1dc26c4fc42"
      },
      "execution_count": null,
      "outputs": [
        {
          "output_type": "stream",
          "name": "stdout",
          "text": [
            "Division was successful! The result is: 5.0\n"
          ]
        }
      ]
    },
    {
      "cell_type": "markdown",
      "source": [
        "If an exception had occurred (like 10 / 0), the else block would have been skipped, and the exception would have been handled by the except block.\n",
        "\n",
        "🔄 How Does It Fit in the Exception Handling Flow?\n",
        "The full structure of a typical exception-handling block with try, except, and else looks like this:\n"
      ],
      "metadata": {
        "id": "_G_pqdEyUKCN"
      }
    },
    {
      "cell_type": "code",
      "source": [
        "try:\n",
        "    # Risky code that might raise an exception\n",
        "except SomeException:\n",
        "    # Handling the exception if one occurs\n",
        "else:\n",
        "    # Code that executes if no exception occurs in the try block\n",
        "finally:\n",
        "    # Code that will run no matter what, whether an exception occurs or not\n"
      ],
      "metadata": {
        "colab": {
          "base_uri": "https://localhost:8080/",
          "height": 106
        },
        "id": "3eoG9l7xUMcZ",
        "outputId": "9251622f-cdd0-4454-9621-97c7e113a60f"
      },
      "execution_count": null,
      "outputs": [
        {
          "output_type": "error",
          "ename": "IndentationError",
          "evalue": "expected an indented block after 'try' statement on line 1 (<ipython-input-39-b6522ea7b5f5>, line 3)",
          "traceback": [
            "\u001b[0;36m  File \u001b[0;32m\"<ipython-input-39-b6522ea7b5f5>\"\u001b[0;36m, line \u001b[0;32m3\u001b[0m\n\u001b[0;31m    except SomeException:\u001b[0m\n\u001b[0m    ^\u001b[0m\n\u001b[0;31mIndentationError\u001b[0m\u001b[0;31m:\u001b[0m expected an indented block after 'try' statement on line 1\n"
          ]
        }
      ]
    },
    {
      "cell_type": "markdown",
      "source": [
        "\n",
        "🌟 Key Points About the else Block\n",
        "Executed When No Exception Occurs: The else block runs only when there’s no exception in the try block. It's a way of handling the \"successful\" case.\n",
        "\n",
        "Separation of Concerns: It helps keep the code that handles exceptions separate from the code that should run when everything works fine, making the program easier to read and maintain.\n",
        "\n",
        "Ideal for Code After try Block: You can use the else block for operations that should only happen when no exception was encountered, such as finalizing data processing or doing something like logging successful execution.\n",
        "\n",
        "🔍 Example: else with try and except\n"
      ],
      "metadata": {
        "id": "SLYabmjRUNzR"
      }
    },
    {
      "cell_type": "code",
      "source": [
        "try:\n",
        "    number = int(input(\"Enter a number: \"))  # Might raise ValueError\n",
        "    result = 100 / number  # Might raise ZeroDivisionError\n",
        "except ValueError:\n",
        "    print(\"That's not a valid number!\")\n",
        "except ZeroDivisionError:\n",
        "    print(\"You can't divide by zero!\")\n",
        "else:\n",
        "    print(f\"Success! 100 divided by {number} is {result}\")\n"
      ],
      "metadata": {
        "colab": {
          "base_uri": "https://localhost:8080/"
        },
        "id": "GShYXOXIUTab",
        "outputId": "59b6a385-789e-43ba-a880-700e24b2ca12"
      },
      "execution_count": null,
      "outputs": [
        {
          "output_type": "stream",
          "name": "stdout",
          "text": [
            "Enter a number: 331010\n",
            "Success! 100 divided by 331010 is 0.00030210567656566265\n"
          ]
        }
      ]
    },
    {
      "cell_type": "markdown",
      "source": [
        "If the user inputs 0, it would hit the ZeroDivisionError block, and the else block would be skipped.\n",
        "\n",
        "🧩 Summary: Role of the else Block in Exception Handling\n",
        "Purpose: The else block allows you to define code that should run only if no exceptions are raised in the try block.\n",
        "\n",
        "Flow:\n",
        "\n",
        "If the try block succeeds (no exceptions), the code in the else block runs.\n",
        "\n",
        "If the try block raises an exception, the except block handles it, and the else block is skipped.\n",
        "\n",
        "Improved Readability: The else block helps organize your code by separating the normal execution path (when no errors occur) from the error-handling path.\n",
        "\n",
        "Example Without else:\n",
        "Without using the else block, you'd have to place the \"normal execution\" code in the try block and potentially mix it with exception handling"
      ],
      "metadata": {
        "id": "3AXMFN2pUcCg"
      }
    },
    {
      "cell_type": "code",
      "source": [
        "try:\n",
        "    number = int(input(\"Enter a number: \"))\n",
        "    result = 100 / number\n",
        "    print(f\"Success! 100 divided by {number} is {result}\")\n",
        "except ValueError:\n",
        "    print(\"That's not a valid number!\")\n",
        "except ZeroDivisionError:\n",
        "    print(\"You can't divide by zero!\")\n"
      ],
      "metadata": {
        "colab": {
          "base_uri": "https://localhost:8080/"
        },
        "id": "HUP6e5cDUgZi",
        "outputId": "4476964b-40cc-499a-a8aa-8370dee7eeda"
      },
      "execution_count": null,
      "outputs": [
        {
          "output_type": "stream",
          "name": "stdout",
          "text": [
            "Enter a number: 67578689\n",
            "Success! 100 divided by 67578689 is 1.479756436233914e-06\n"
          ]
        }
      ]
    },
    {
      "cell_type": "markdown",
      "source": [
        "The else block makes it clearer that the code inside it should only run when no exceptions occur, improving readability and separating the error handling from the success case.\n",
        "\n",
        "17)  What are the common logging levels in Python?\n",
        "\n",
        "ANS:- 📜 Common Logging Levels in Python\n",
        "Python's logging module provides a flexible framework for logging messages with various severity levels. These levels allow you to categorize messages based on their importance, and they control which messages are displayed or stored in logs.\n",
        "\n",
        "Here are the common logging levels in Python, listed from the lowest severity to the highest severity:\n",
        "\n",
        "1. DEBUG (Level 10)\n",
        "Description: The lowest severity level, used for detailed information that’s typically only useful for diagnosing problems during development or troubleshooting.\n",
        "\n",
        "Use case: Provides detailed logs for developers during debugging.\n",
        "\n",
        "Example: Tracking variables, intermediate steps, or detailed workflow."
      ],
      "metadata": {
        "id": "8Gg4pR_4UnTH"
      }
    },
    {
      "cell_type": "code",
      "source": [
        "import logging\n",
        "logging.basicConfig(level=logging.DEBUG)\n",
        "logging.debug(\"This is a debug message\")"
      ],
      "metadata": {
        "id": "vQWwtNC7U99Z"
      },
      "execution_count": null,
      "outputs": []
    },
    {
      "cell_type": "markdown",
      "source": [
        "2. INFO (Level 20)\n",
        "Description: Used for general information about the system’s operation. It's often used to indicate normal program operation or important milestones.\n",
        "\n",
        "Use case: For routine information that doesn't indicate an issue but might be useful to track progress or milestones.\n",
        "\n",
        "Example: Application start, user login, or successful completion of tasks."
      ],
      "metadata": {
        "id": "2m8Osu3DVFdY"
      }
    },
    {
      "cell_type": "code",
      "source": [
        "import logging\n",
        "logging.basicConfig(level=logging.INFO)\n",
        "logging.info(\"This is an info message\")\n"
      ],
      "metadata": {
        "id": "GcN4_Xn7VICa"
      },
      "execution_count": null,
      "outputs": []
    },
    {
      "cell_type": "markdown",
      "source": [
        "3. WARNING (Level 30)\n",
        "Description: Used to indicate that something unexpected happened, but the program can still continue running. It highlights potential problems or areas that might need attention.\n",
        "\n",
        "Use case: For conditions that are not errors but may lead to issues if not addressed.\n",
        "\n",
        "Example: Low disk space, deprecated functions, or unexpected input."
      ],
      "metadata": {
        "id": "hKu8BowhVKuZ"
      }
    },
    {
      "cell_type": "code",
      "source": [
        "import logging\n",
        "logging.basicConfig(level=logging.WARNING)\n",
        "logging.warning(\"This is a warning message\")\n"
      ],
      "metadata": {
        "colab": {
          "base_uri": "https://localhost:8080/"
        },
        "id": "IvDbh7pFVLzF",
        "outputId": "f49ba261-e13b-4ca8-8507-1beb4cd8a356"
      },
      "execution_count": null,
      "outputs": [
        {
          "output_type": "stream",
          "name": "stderr",
          "text": [
            "WARNING:root:This is a warning message\n"
          ]
        }
      ]
    },
    {
      "cell_type": "markdown",
      "source": [
        "4. ERROR (Level 40)\n",
        "Description: Used to indicate a more serious problem that has caused a failure or malfunction in the program. However, the program can often continue running.\n",
        "\n",
        "Use case: For situations where the program cannot complete a certain task but can still continue operating.\n",
        "\n",
        "Example: Failure to open a file, invalid data input, or a function not working as expected."
      ],
      "metadata": {
        "id": "U4l6XHEvVTps"
      }
    },
    {
      "cell_type": "code",
      "source": [
        "import logging\n",
        "logging.basicConfig(level=logging.ERROR)\n",
        "logging.error(\"This is an error message\")\n"
      ],
      "metadata": {
        "colab": {
          "base_uri": "https://localhost:8080/"
        },
        "id": "ABE97TaWVWee",
        "outputId": "8650f0ff-66dc-4ba8-e885-f76a3706c5f1"
      },
      "execution_count": null,
      "outputs": [
        {
          "output_type": "stream",
          "name": "stderr",
          "text": [
            "ERROR:root:This is an error message\n"
          ]
        }
      ]
    },
    {
      "cell_type": "markdown",
      "source": [
        "5. CRITICAL (Level 50)\n",
        "Description: The highest severity level, indicating a very serious error that will likely cause the program to halt or result in an unstable state. This should be used for major issues.\n",
        "\n",
        "Use case: For critical issues that might require the program to terminate, or situations that need immediate attention.\n",
        "\n",
        "Example: System failure, database connection loss, or memory issues.\n"
      ],
      "metadata": {
        "id": "PRRQrVrFVcj3"
      }
    },
    {
      "cell_type": "code",
      "source": [
        "import logging\n",
        "logging.basicConfig(level=logging.CRITICAL)\n",
        "logging.critical(\"This is a critical message\")\n"
      ],
      "metadata": {
        "colab": {
          "base_uri": "https://localhost:8080/"
        },
        "id": "7kAgHScUVeey",
        "outputId": "0f41c45f-393b-48b3-a228-5280be38556e"
      },
      "execution_count": null,
      "outputs": [
        {
          "output_type": "stream",
          "name": "stderr",
          "text": [
            "CRITICAL:root:This is a critical message\n"
          ]
        }
      ]
    },
    {
      "cell_type": "markdown",
      "source": [
        "🛠️ Setting Logging Level\n",
        "The logging level can be set using basicConfig() or through custom loggers.\n",
        "\n",
        "If you set a logging level, only messages at that level or higher will be shown (e.g., setting the level to ERROR will show only ERROR and CRITICAL messages)."
      ],
      "metadata": {
        "id": "OfEdpqePVgvn"
      }
    },
    {
      "cell_type": "code",
      "source": [
        "import logging\n",
        "\n",
        "# Set the logging level to WARNING\n",
        "logging.basicConfig(level=logging.WARNING)\n",
        "\n",
        "logging.debug(\"This is a debug message\")   # Will not be shown\n",
        "logging.info(\"This is an info message\")    # Will not be shown\n",
        "logging.warning(\"This is a warning message\")  # Will be shown\n"
      ],
      "metadata": {
        "colab": {
          "base_uri": "https://localhost:8080/"
        },
        "id": "G_PWt70IVkYl",
        "outputId": "a5f1f58b-780e-4946-9fb6-e9d0e3329257"
      },
      "execution_count": null,
      "outputs": [
        {
          "output_type": "stream",
          "name": "stderr",
          "text": [
            "WARNING:root:This is a warning message\n"
          ]
        }
      ]
    },
    {
      "cell_type": "markdown",
      "source": [
        "✨ Why Use Logging Levels?\n",
        "Control: You can control which messages are logged based on the severity. This helps in filtering out less important information during regular operation and focusing on critical issues.\n",
        "\n",
        "Better Understanding: Differentiates between normal information, potential issues, and serious problems, giving you a clearer understanding of the application's state.\n",
        "\n",
        "Flexibility: With logging levels, you can set the verbosity of logs, making them more useful in different environments (e.g., development, production).\n",
        "\n",
        "\n",
        "18) What is the difference between os.fork() and multiprocessing in Python?\n",
        "\n",
        "Ans:- :\n",
        "🏁 Difference Between os.fork() and multiprocessing in Python\n",
        "Both os.fork() and the multiprocessing module in Python are used for creating new processes, but they work in different ways and serve different purposes. Here's a detailed breakdown of each:\n",
        "\n",
        "1. os.fork()\n",
        "Description:\n",
        "os.fork() is a low-level function that creates a child process by duplicating the calling (parent) process. It is a Unix-specific system call (not available on Windows).\n",
        "\n",
        "The parent process continues execution, and the child process starts execution from the point where fork() was called.\n",
        "\n",
        "How it works:\n",
        "Parent Process: After calling os.fork(), the parent receives the PID (process ID) of the child process.\n",
        "\n",
        "Child Process: The child gets a 0 return value when fork() is called. The child process is a copy of the parent process but has a separate memory space.\n",
        "\n",
        "Key Points:\n",
        "Low-level: It's a direct system-level call that forks processes, resulting in two identical processes running in parallel.\n",
        "\n",
        "Shared Memory: Both parent and child processes initially share memory, but as the processes continue, they have separate memory spaces due to a mechanism called copy-on-write.\n",
        "\n",
        "Unix-specific: Available only on Unix-like systems (Linux, macOS). Not supported in Windows.\n",
        "\n",
        "Example of os.fork():"
      ],
      "metadata": {
        "id": "iUlO-yaBVmte"
      }
    },
    {
      "cell_type": "code",
      "source": [
        "import os\n",
        "\n",
        "pid = os.fork()\n",
        "\n",
        "if pid > 0:\n",
        "    # Parent process\n",
        "    print(f\"Parent process, PID: {os.getpid()} and Child PID: {pid}\")\n",
        "elif pid == 0:\n",
        "    # Child process\n",
        "    print(f\"Child process, PID: {os.getpid()}\")\n"
      ],
      "metadata": {
        "colab": {
          "base_uri": "https://localhost:8080/"
        },
        "id": "JbNOdmVLV7Ot",
        "outputId": "f1bb5086-8335-4893-abf1-0db89c172c22"
      },
      "execution_count": null,
      "outputs": [
        {
          "output_type": "stream",
          "name": "stdout",
          "text": [
            "Parent process, PID: 382 and Child PID: 11318\n"
          ]
        }
      ]
    },
    {
      "cell_type": "markdown",
      "source": [
        "In this example, the parent and child processes print different messages, and the parent gets the child PID, while the child gets 0.\n",
        "\n",
        "2. multiprocessing Module\n",
        "Description:\n",
        "The multiprocessing module is a higher-level, Pythonic way of creating and managing processes. It abstracts away the underlying details and provides an easy-to-use interface for working with processes, communication between processes, and parallel execution.\n",
        "\n",
        "The multiprocessing module works across platforms, including Windows, macOS, and Linux.\n",
        "\n",
        "How it works:\n",
        "The multiprocessing module creates independent processes that run in parallel, with their own memory space. It allows processes to communicate and share data using inter-process communication (IPC) mechanisms such as Queue, Pipe, Manager, etc.\n",
        "\n",
        "It also supports parallel computation using the Pool class and allows the use of shared memory and synchronization primitives like locks.\n",
        "\n",
        "Key Points:\n",
        "High-level: The multiprocessing module provides an easy-to-use API and is more powerful than os.fork(). It abstracts many details like process creation, communication, and synchronization.\n",
        "\n",
        "Cross-platform: Unlike os.fork(), multiprocessing works on both Unix and Windows, making it a more flexible solution for cross-platform applications.\n",
        "\n",
        "Separate Memory: Each process has its own memory space, and the multiprocessing module allows safe sharing of data between processes using specific tools like Value, Array, and Queue.\n",
        "\n",
        "Example of multiprocessing:\n"
      ],
      "metadata": {
        "id": "6Au8Huy_WB5C"
      }
    },
    {
      "cell_type": "code",
      "source": [
        "import multiprocessing\n",
        "\n",
        "def worker(number):\n",
        "    print(f\"Worker {number} is working\")\n",
        "\n",
        "if __name__ == \"__main__\":\n",
        "    processes = []\n",
        "    for i in range(5):\n",
        "        p = multiprocessing.Process(target=worker, args=(i,))\n",
        "        processes.append(p)\n",
        "        p.start()\n",
        "\n",
        "    for p in processes:\n",
        "        p.join()  # Wait for all processes to complete\n"
      ],
      "metadata": {
        "id": "7ybSTGI7WPV7",
        "colab": {
          "base_uri": "https://localhost:8080/"
        },
        "outputId": "be7619f8-13a9-476e-cafb-132aac1539e1"
      },
      "execution_count": 11,
      "outputs": [
        {
          "output_type": "stream",
          "name": "stdout",
          "text": [
            "Worker 0 is workingWorker 1 is working\n",
            "\n",
            "Worker 3 is workingWorker 2 is working\n",
            "Worker 4 is working\n",
            "\n"
          ]
        }
      ]
    },
    {
      "cell_type": "markdown",
      "source": [
        "This example uses the multiprocessing.Process class to spawn 5 independent worker processes, each running the worker function. The start() method begins the process, and join() waits for all processes to finish.\n",
        "\n",
        "3. Key Differences Between os.fork() and multiprocessing\n",
        "Feature\tos.fork()\tmultiprocessing\n",
        "Platform Support\tUnix-like systems (Linux, macOS)\tCross-platform (Linux, macOS, Windows)\n",
        "Abstraction Level\tLow-level system call\tHigh-level, Pythonic API\n",
        "Memory Management\tShared memory between parent and child (copy-on-write)\tSeparate memory for each process (independent)\n",
        "Process Communication\tNo built-in communication between processes\tBuilt-in support for communication (Queue, Pipe, Manager)\n",
        "Process Creation\tForks the current process into two identical processes\tCreates independent processes with separate memory spaces\n",
        "Ease of Use\tRequires manual management of processes and memory\tProvides easier-to-use abstractions for parallelism, synchronization, and communication\n",
        "Supported Features\tDoes not provide built-in parallel computation tools\tSupports pooling, parallel computation, and resource sharing tools\n",
        "OS-level Control\tDirect control over the process at OS level\tHigher-level abstraction, hides OS-level complexities\n",
        "\n",
        "4. When to Use os.fork() vs multiprocessing\n",
        "Use os.fork() when:\n",
        "\n",
        "You need low-level control over processes.\n",
        "\n",
        "You're working in a Unix-based environment (Linux/macOS) and don’t need cross-platform compatibility.\n",
        "\n",
        "You want a simple duplicate process creation (e.g., for a small task or simple use cases like server forking).\n",
        "\n",
        "Use multiprocessing when:\n",
        "\n",
        "You want a cross-platform solution that works on both Windows and Unix systems.\n",
        "\n",
        "You need to create processes in a clean and controlled way, with built-in communication mechanisms and synchronization tools.\n",
        "\n",
        "You're working on applications that need parallelism or distributed computation (e.g., parallel data processing, scientific computing, etc.).\n",
        "\n",
        "You want to leverage features like process pools or shared memory management.\n",
        "\n",
        "🏁 Conclusion\n",
        "os.fork() is a low-level, Unix-specific system call for creating child processes by duplicating the parent process. It’s ideal for situations where you want direct control over process creation but only works in Unix environments.\n",
        "\n",
        "multiprocessing is a higher-level, cross-platform solution for process management, communication, and parallel computation. It's more flexible and user-friendly, providing features for safely sharing data, synchronizing processes, and using process pools.\n",
        "\n",
        "For most Python applications that require parallelism, multiprocessing is the preferred choice due to its simplicity, cross-platform compatibility, and ease of use."
      ],
      "metadata": {
        "id": "hskVrkKdWUbp"
      }
    },
    {
      "cell_type": "markdown",
      "source": [
        "19) What is the importance of closing a file in Python?\n",
        "\n",
        "Ans:- 🗂️ Importance of Closing a File in Python\n",
        "When working with files in Python, it's crucial to close a file after finishing reading from or writing to it. Closing a file ensures that all resources associated with it are properly released, and any changes made are correctly saved. Here’s a detailed explanation of the importance of closing a file:\n",
        "\n",
        "1. Releases System Resources\n",
        "When you open a file, the operating system assigns resources (like file handles or descriptors) to that file. These resources are limited, and if files are not closed properly, they can accumulate, leading to resource exhaustion.\n",
        "\n",
        "File handles are limited: Most systems have a finite number of file descriptors available at any given time. If you keep files open and never close them, you could run out of available file handles, causing your program to fail when trying to open new files.\n",
        "\n",
        "Proper closure releases resources: Closing the file tells the operating system that you’re done with the file, allowing it to release those resources and make them available for other processes.\n",
        "\n",
        "2. Ensures Data Integrity\n",
        "If you’re writing data to a file, the operating system may buffer the data before actually writing it to disk. Closing the file ensures that all data in the buffer is properly flushed to the file, preventing data loss.\n",
        "\n",
        "Buffered writes: In many cases, when you write to a file, the data isn't immediately written to disk but instead is held in a temporary buffer. If you don’t close the file, the data may not get saved properly, leading to incomplete or corrupted files.\n",
        "\n",
        "Finalizing changes: Closing the file ensures that all changes are committed to the file, and any pending writes are finalized.\n",
        "\n",
        "3. Avoids Potential Bugs\n",
        "Not closing a file can lead to bugs that are difficult to track down. For example, the file may not behave as expected, or the program may hang due to system resource limitations.\n",
        "\n",
        "File lock or permission issues: Some systems or file servers may lock files while they are open. If the file is not closed, you might face issues trying to access or modify the file later on.\n",
        "\n",
        "Unexpected behavior: If a file isn't closed, trying to reopen or modify it might lead to unexpected results, like corrupted data or locked files.\n",
        "\n",
        "4. Better File Handling Practice\n",
        "Closing files is generally a good programming practice. It ensures that your program behaves predictably, avoids memory or resource leaks, and maintains the integrity of your data.\n",
        "\n",
        "5. Automatic Closing with with Statement\n",
        "Instead of explicitly closing the file, you can use the with statement in Python, which automatically closes the file when the block of code is done executing.\n",
        "\n",
        "The with statement is a context manager that ensures the file is closed properly, even if an exception occurs within the block. This is considered a best practice because it makes your code cleaner and less error-prone.\n",
        "\n",
        "Example of Closing a File Manually:"
      ],
      "metadata": {
        "id": "o5lfxy9nWZVA"
      }
    },
    {
      "cell_type": "code",
      "source": [
        "# Opening a file for writing\n",
        "file = open(\"example.txt\", \"w\")\n",
        "file.write(\"Hello, world!\")\n",
        "# Closing the file explicitly\n",
        "file.close()\n"
      ],
      "metadata": {
        "id": "_-d8KF-IWsXc"
      },
      "execution_count": 10,
      "outputs": []
    },
    {
      "cell_type": "markdown",
      "source": [
        "In this case, after calling file.close(), the file is properly closed, and any buffered data is flushed.\n",
        "\n",
        "Example Using the with Statement (Recommended):\n",
        "\n"
      ],
      "metadata": {
        "id": "UMq9uKtVWt5h"
      }
    },
    {
      "cell_type": "code",
      "source": [
        "# Opening a file using the 'with' statement (no need to manually close)\n",
        "with open(\"example.txt\", \"w\") as file:\n",
        "    file.write(\"Hello, world!\")\n",
        "# File is automatically closed when the block exits\n"
      ],
      "metadata": {
        "id": "JvIwXvxbW43K"
      },
      "execution_count": 9,
      "outputs": []
    },
    {
      "cell_type": "markdown",
      "source": [
        "In this case, the file is automatically closed when the code within the with block finishes, even if an exception occurs.\n",
        "\n",
        "🧩 Key Points About Closing Files\n",
        "Releases system resources: Ensures that file handles are released and available for other processes.\n",
        "\n",
        "Guarantees data integrity: Ensures that data written to the file is properly saved to disk.\n",
        "\n",
        "Prevents potential bugs: Avoids file lock issues, access problems, and unexpected behavior.\n",
        "\n",
        "Best practice: Closing files is a good practice for clean and predictable code, and using the with statement is the recommended way to handle files in Python.\n",
        "\n",
        "\n",
        "\n",
        "20) What is the difference between file.read() and file.readline() in Python?\n",
        "\n",
        "Ans:- :\n",
        "📂 Difference Between file.read() and file.readline() in Python\n",
        "Both file.read() and file.readline() are methods used to read data from a file in Python, but they work differently in how they retrieve the content.\n",
        "\n",
        "Here's a breakdown of the differences:\n",
        "\n",
        "1. file.read()\n",
        "Reads the entire content of the file in one go.\n",
        "\n",
        "Returns a single string containing all the content of the file.\n",
        "\n",
        "It can optionally take a size argument to read a specified number of bytes from the file.\n",
        "\n",
        "If no size is specified, it reads the entire file.\n",
        "\n",
        "Useful for reading the entire content at once if you want to process the file in memory.\n",
        "\n",
        "Example:"
      ],
      "metadata": {
        "id": "6x-GIGMGXEtv"
      }
    },
    {
      "cell_type": "code",
      "source": [
        "with open('example.txt', 'r') as file:\n",
        "    content = file.read()\n",
        "    print(content)  # Prints all the content of the file\n"
      ],
      "metadata": {
        "id": "3QN4ycPyXbnw",
        "colab": {
          "base_uri": "https://localhost:8080/",
          "height": 176
        },
        "outputId": "7183a4a1-8a7f-4d88-f811-3a5147fc236e"
      },
      "execution_count": 8,
      "outputs": [
        {
          "output_type": "error",
          "ename": "FileNotFoundError",
          "evalue": "[Errno 2] No such file or directory: 'example.txt'",
          "traceback": [
            "\u001b[0;31m---------------------------------------------------------------------------\u001b[0m",
            "\u001b[0;31mFileNotFoundError\u001b[0m                         Traceback (most recent call last)",
            "\u001b[0;32m<ipython-input-8-0167923843c2>\u001b[0m in \u001b[0;36m<cell line: 0>\u001b[0;34m()\u001b[0m\n\u001b[0;32m----> 1\u001b[0;31m \u001b[0;32mwith\u001b[0m \u001b[0mopen\u001b[0m\u001b[0;34m(\u001b[0m\u001b[0;34m'example.txt'\u001b[0m\u001b[0;34m,\u001b[0m \u001b[0;34m'r'\u001b[0m\u001b[0;34m)\u001b[0m \u001b[0;32mas\u001b[0m \u001b[0mfile\u001b[0m\u001b[0;34m:\u001b[0m\u001b[0;34m\u001b[0m\u001b[0;34m\u001b[0m\u001b[0m\n\u001b[0m\u001b[1;32m      2\u001b[0m     \u001b[0mcontent\u001b[0m \u001b[0;34m=\u001b[0m \u001b[0mfile\u001b[0m\u001b[0;34m.\u001b[0m\u001b[0mread\u001b[0m\u001b[0;34m(\u001b[0m\u001b[0;34m)\u001b[0m\u001b[0;34m\u001b[0m\u001b[0;34m\u001b[0m\u001b[0m\n\u001b[1;32m      3\u001b[0m     \u001b[0mprint\u001b[0m\u001b[0;34m(\u001b[0m\u001b[0mcontent\u001b[0m\u001b[0;34m)\u001b[0m  \u001b[0;31m# Prints all the content of the file\u001b[0m\u001b[0;34m\u001b[0m\u001b[0;34m\u001b[0m\u001b[0m\n",
            "\u001b[0;31mFileNotFoundError\u001b[0m: [Errno 2] No such file or directory: 'example.txt'"
          ]
        }
      ]
    },
    {
      "cell_type": "code",
      "source": [
        "Hello, World!\n",
        "Welcome to Python file handling.\n"
      ],
      "metadata": {
        "id": "nBH2yKWgYLrH",
        "colab": {
          "base_uri": "https://localhost:8080/",
          "height": 106
        },
        "outputId": "0aa08397-cd84-48f7-cf65-64eee346e825"
      },
      "execution_count": 7,
      "outputs": [
        {
          "output_type": "error",
          "ename": "SyntaxError",
          "evalue": "invalid syntax (<ipython-input-7-6eb7dcfde019>, line 1)",
          "traceback": [
            "\u001b[0;36m  File \u001b[0;32m\"<ipython-input-7-6eb7dcfde019>\"\u001b[0;36m, line \u001b[0;32m1\u001b[0m\n\u001b[0;31m    Hello, World!\u001b[0m\n\u001b[0m                ^\u001b[0m\n\u001b[0;31mSyntaxError\u001b[0m\u001b[0;31m:\u001b[0m invalid syntax\n"
          ]
        }
      ]
    },
    {
      "cell_type": "markdown",
      "source": [
        "2. file.readline()\n",
        "Reads one line at a time from the file.\n",
        "\n",
        "Returns a string containing just one line (including the newline character \\n if it exists).\n",
        "\n",
        "It can be used inside a loop to read the file line by line, which is memory-efficient when dealing with large files.\n",
        "\n",
        "If you call it multiple times, it will continue reading subsequent lines.\n",
        "\n",
        "Example:"
      ],
      "metadata": {
        "id": "cLCVUl5BYHZp"
      }
    },
    {
      "cell_type": "code",
      "source": [
        "with open('example.txt', 'r') as file:\n",
        "    line1 = file.readline()\n",
        "    print(line1)  # Prints the first line of the file\n"
      ],
      "metadata": {
        "id": "5IgQ6O-dYTui",
        "colab": {
          "base_uri": "https://localhost:8080/",
          "height": 176
        },
        "outputId": "d40cc6a7-f06d-4863-8dcf-0819487e5ae3"
      },
      "execution_count": 6,
      "outputs": [
        {
          "output_type": "error",
          "ename": "FileNotFoundError",
          "evalue": "[Errno 2] No such file or directory: 'example.txt'",
          "traceback": [
            "\u001b[0;31m---------------------------------------------------------------------------\u001b[0m",
            "\u001b[0;31mFileNotFoundError\u001b[0m                         Traceback (most recent call last)",
            "\u001b[0;32m<ipython-input-6-70cc40228435>\u001b[0m in \u001b[0;36m<cell line: 0>\u001b[0;34m()\u001b[0m\n\u001b[0;32m----> 1\u001b[0;31m \u001b[0;32mwith\u001b[0m \u001b[0mopen\u001b[0m\u001b[0;34m(\u001b[0m\u001b[0;34m'example.txt'\u001b[0m\u001b[0;34m,\u001b[0m \u001b[0;34m'r'\u001b[0m\u001b[0;34m)\u001b[0m \u001b[0;32mas\u001b[0m \u001b[0mfile\u001b[0m\u001b[0;34m:\u001b[0m\u001b[0;34m\u001b[0m\u001b[0;34m\u001b[0m\u001b[0m\n\u001b[0m\u001b[1;32m      2\u001b[0m     \u001b[0mline1\u001b[0m \u001b[0;34m=\u001b[0m \u001b[0mfile\u001b[0m\u001b[0;34m.\u001b[0m\u001b[0mreadline\u001b[0m\u001b[0;34m(\u001b[0m\u001b[0;34m)\u001b[0m\u001b[0;34m\u001b[0m\u001b[0;34m\u001b[0m\u001b[0m\n\u001b[1;32m      3\u001b[0m     \u001b[0mprint\u001b[0m\u001b[0;34m(\u001b[0m\u001b[0mline1\u001b[0m\u001b[0;34m)\u001b[0m  \u001b[0;31m# Prints the first line of the file\u001b[0m\u001b[0;34m\u001b[0m\u001b[0;34m\u001b[0m\u001b[0m\n",
            "\u001b[0;31mFileNotFoundError\u001b[0m: [Errno 2] No such file or directory: 'example.txt'"
          ]
        }
      ]
    },
    {
      "cell_type": "markdown",
      "source": [
        "3. Key Differences\n",
        "Feature\tfile.read()\tfile.readline()\n",
        "What it reads\tReads the entire content of the file at once.\tReads one line at a time from the file.\n",
        "Return value\tReturns a single string containing the whole file’s content.\tReturns one string for the current line (including \\n).\n",
        "How to use it\tUseful when you need the whole content of the file.\tUseful for line-by-line processing, especially for large files.\n",
        "Memory usage\tReads the entire file into memory, which might be inefficient for large files.\tMore memory-efficient as it reads one line at a time.\n",
        "Newline character\tNewline characters \\n are preserved in the string.\tNewline character is included at the end of each line (unless it's the last line).\n",
        "File pointer\tMoves the file pointer to the end of the file after reading.\tMoves the file pointer to the next line each time it’s called.\n",
        "\n",
        "4. When to Use Each\n",
        "Use file.read() when:\n",
        "\n",
        "You need to read the entire file at once into memory.\n",
        "\n",
        "The file is small enough to be comfortably loaded into memory.\n",
        "\n",
        "You want to process all the data at once, for example, when parsing or analyzing the entire content.\n",
        "\n",
        "Use file.readline() when:\n",
        "\n",
        "You want to process the file line by line.\n",
        "\n",
        "You’re working with large files and don’t want to load the entire content into memory.\n",
        "\n",
        "You want to read specific lines one at a time, for example, when analyzing logs or structured data.\n",
        "\n",
        "5. Practical Examples\n",
        "Example: Reading a Large File Line by Line with readline()\n",
        "If you're processing a large log file, you might want to read and process each line individually to avoid memory overload:"
      ],
      "metadata": {
        "id": "EYkpw2zJYl4i"
      }
    },
    {
      "cell_type": "code",
      "source": [
        "with open('large_file.txt', 'r') as file:\n",
        "    while True:\n",
        "        line = file.readline()\n",
        "        if not line:  # End of file\n",
        "            break\n",
        "        # Process the line\n",
        "        print(line.strip())\n"
      ],
      "metadata": {
        "id": "P5O4ygv0ZYiV",
        "colab": {
          "base_uri": "https://localhost:8080/",
          "height": 211
        },
        "outputId": "254420b9-bb80-4de6-ad6c-02545888cf27"
      },
      "execution_count": 5,
      "outputs": [
        {
          "output_type": "error",
          "ename": "FileNotFoundError",
          "evalue": "[Errno 2] No such file or directory: 'large_file.txt'",
          "traceback": [
            "\u001b[0;31m---------------------------------------------------------------------------\u001b[0m",
            "\u001b[0;31mFileNotFoundError\u001b[0m                         Traceback (most recent call last)",
            "\u001b[0;32m<ipython-input-5-4fe9a447aafe>\u001b[0m in \u001b[0;36m<cell line: 0>\u001b[0;34m()\u001b[0m\n\u001b[0;32m----> 1\u001b[0;31m \u001b[0;32mwith\u001b[0m \u001b[0mopen\u001b[0m\u001b[0;34m(\u001b[0m\u001b[0;34m'large_file.txt'\u001b[0m\u001b[0;34m,\u001b[0m \u001b[0;34m'r'\u001b[0m\u001b[0;34m)\u001b[0m \u001b[0;32mas\u001b[0m \u001b[0mfile\u001b[0m\u001b[0;34m:\u001b[0m\u001b[0;34m\u001b[0m\u001b[0;34m\u001b[0m\u001b[0m\n\u001b[0m\u001b[1;32m      2\u001b[0m     \u001b[0;32mwhile\u001b[0m \u001b[0;32mTrue\u001b[0m\u001b[0;34m:\u001b[0m\u001b[0;34m\u001b[0m\u001b[0;34m\u001b[0m\u001b[0m\n\u001b[1;32m      3\u001b[0m         \u001b[0mline\u001b[0m \u001b[0;34m=\u001b[0m \u001b[0mfile\u001b[0m\u001b[0;34m.\u001b[0m\u001b[0mreadline\u001b[0m\u001b[0;34m(\u001b[0m\u001b[0;34m)\u001b[0m\u001b[0;34m\u001b[0m\u001b[0;34m\u001b[0m\u001b[0m\n\u001b[1;32m      4\u001b[0m         \u001b[0;32mif\u001b[0m \u001b[0;32mnot\u001b[0m \u001b[0mline\u001b[0m\u001b[0;34m:\u001b[0m  \u001b[0;31m# End of file\u001b[0m\u001b[0;34m\u001b[0m\u001b[0;34m\u001b[0m\u001b[0m\n\u001b[1;32m      5\u001b[0m             \u001b[0;32mbreak\u001b[0m\u001b[0;34m\u001b[0m\u001b[0;34m\u001b[0m\u001b[0m\n",
            "\u001b[0;31mFileNotFoundError\u001b[0m: [Errno 2] No such file or directory: 'large_file.txt'"
          ]
        }
      ]
    },
    {
      "cell_type": "markdown",
      "source": [
        "Example: Reading the Whole Content at Once with read()\n",
        "For small configuration files or when you need the entire content in one go:"
      ],
      "metadata": {
        "id": "8jz9mbtTZcGR"
      }
    },
    {
      "cell_type": "code",
      "source": [
        "with open('small_file.txt', 'r') as file:\n",
        "    content = file.read()\n",
        "    print(content)\n"
      ],
      "metadata": {
        "id": "n9QF7SXVZgys",
        "colab": {
          "base_uri": "https://localhost:8080/",
          "height": 176
        },
        "outputId": "3bca5849-d7ad-4a85-c9cf-c3f3fd57e627"
      },
      "execution_count": 4,
      "outputs": [
        {
          "output_type": "error",
          "ename": "FileNotFoundError",
          "evalue": "[Errno 2] No such file or directory: 'small_file.txt'",
          "traceback": [
            "\u001b[0;31m---------------------------------------------------------------------------\u001b[0m",
            "\u001b[0;31mFileNotFoundError\u001b[0m                         Traceback (most recent call last)",
            "\u001b[0;32m<ipython-input-4-1a028fba0cdd>\u001b[0m in \u001b[0;36m<cell line: 0>\u001b[0;34m()\u001b[0m\n\u001b[0;32m----> 1\u001b[0;31m \u001b[0;32mwith\u001b[0m \u001b[0mopen\u001b[0m\u001b[0;34m(\u001b[0m\u001b[0;34m'small_file.txt'\u001b[0m\u001b[0;34m,\u001b[0m \u001b[0;34m'r'\u001b[0m\u001b[0;34m)\u001b[0m \u001b[0;32mas\u001b[0m \u001b[0mfile\u001b[0m\u001b[0;34m:\u001b[0m\u001b[0;34m\u001b[0m\u001b[0;34m\u001b[0m\u001b[0m\n\u001b[0m\u001b[1;32m      2\u001b[0m     \u001b[0mcontent\u001b[0m \u001b[0;34m=\u001b[0m \u001b[0mfile\u001b[0m\u001b[0;34m.\u001b[0m\u001b[0mread\u001b[0m\u001b[0;34m(\u001b[0m\u001b[0;34m)\u001b[0m\u001b[0;34m\u001b[0m\u001b[0;34m\u001b[0m\u001b[0m\n\u001b[1;32m      3\u001b[0m     \u001b[0mprint\u001b[0m\u001b[0;34m(\u001b[0m\u001b[0mcontent\u001b[0m\u001b[0;34m)\u001b[0m\u001b[0;34m\u001b[0m\u001b[0;34m\u001b[0m\u001b[0m\n",
            "\u001b[0;31mFileNotFoundError\u001b[0m: [Errno 2] No such file or directory: 'small_file.txt'"
          ]
        }
      ]
    },
    {
      "cell_type": "markdown",
      "source": [
        "21)  What is the logging module in Python used for?\n",
        "\n",
        "\n",
        "Ans:- 📝 What Is the logging Module in Python Used For?\n",
        "The logging module in Python is a built-in library used for recording log messages from your program. It allows you to track events, debug issues, monitor program execution, and keep records of what your application is doing — all without interrupting the normal flow of the program.\n",
        "\n",
        "🎯 Main Purpose of the logging Module\n",
        "The logging module is used to:\n",
        "\n",
        "Report status messages, warnings, errors, and debugging info.\n",
        "\n",
        "Keep track of events as your program runs.\n",
        "\n",
        "Record information to console, files, or even external systems (like email or databases).\n",
        "\n",
        "Help developers and system admins understand what the application is doing, especially when something goes wrong.\n",
        "\n",
        "✅ Why Use logging Instead of print()?\n",
        "Feature\tprint()\tlogging\n",
        "Basic Output\tYes\tYes\n",
        "Different Severity Levels\t❌\t✅ (DEBUG, INFO, WARNING, ERROR, CRITICAL)\n",
        "Write to Files\tManually needed\t✅ Easily configurable\n",
        "Time-stamped Output\t❌\t✅ Built-in\n",
        "Production Use\t❌ Debugging only\t✅ Suitable for production code\n",
        "Flexible Formatting\t❌\t✅ Fully customizable\n",
        "\n",
        "🔧 Common Logging Levels\n",
        "Python’s logging module defines five standard levels indicating the severity of events:\n",
        "\n",
        "Level\tDescription\n",
        "DEBUG\tDetailed info, useful for diagnosing problems.\n",
        "INFO\tConfirmation that things are working as expected.\n",
        "WARNING\tSomething unexpected happened, not critical yet.\n",
        "ERROR\tA more serious problem — the program can still run.\n",
        "CRITICAL\tA serious error — the program may not continue.\n",
        "\n",
        "🛠️ Basic Example: Logging to Console\n"
      ],
      "metadata": {
        "id": "sJdoFjRmZpV2"
      }
    },
    {
      "cell_type": "code",
      "source": [
        "import logging\n",
        "\n",
        "# Set the basic configuration\n",
        "logging.basicConfig(level=logging.INFO)\n",
        "\n",
        "# Log different severity messages\n",
        "logging.debug(\"This is a debug message\")\n",
        "logging.info(\"This is an info message\")\n",
        "logging.warning(\"This is a warning\")\n",
        "logging.error(\"This is an error\")\n",
        "logging.critical(\"This is critical\")\n"
      ],
      "metadata": {
        "id": "H0ZVDTRhZ1KY",
        "colab": {
          "base_uri": "https://localhost:8080/"
        },
        "outputId": "62c4cb34-36e3-4d18-dd10-83f7de42af18"
      },
      "execution_count": 3,
      "outputs": [
        {
          "output_type": "stream",
          "name": "stderr",
          "text": [
            "WARNING:root:This is a warning\n",
            "ERROR:root:This is an error\n",
            "CRITICAL:root:This is critical\n"
          ]
        }
      ]
    },
    {
      "cell_type": "markdown",
      "source": [
        "\n",
        "📁 Logging to a File"
      ],
      "metadata": {
        "id": "q3TIiBSJZ44j"
      }
    },
    {
      "cell_type": "code",
      "source": [
        "import logging\n",
        "\n",
        "logging.basicConfig(\n",
        "    filename='app.log',\n",
        "    level=logging.DEBUG,\n",
        "    format='%(asctime)s - %(levelname)s - %(message)s'\n",
        ")\n",
        "\n",
        "logging.info('This message is written to a file.')\n"
      ],
      "metadata": {
        "id": "Xhsru1LCZ7EK"
      },
      "execution_count": 1,
      "outputs": []
    },
    {
      "cell_type": "markdown",
      "source": [
        "Creates (or appends to) app.log\n",
        "\n",
        "Adds timestamps, log level, and message\n",
        "\n",
        "💡 Key Features of logging\n",
        "Built-in — no need to install external packages.\n",
        "\n",
        "Supports different output destinations (console, files, email, HTTP, etc.).\n",
        "\n",
        "Can log to multiple destinations simultaneously using handlers.\n",
        "\n",
        "Flexible filtering and formatting.\n",
        "\n",
        "Helps in debugging, auditing, and error tracking in production systems.\n",
        "\n",
        "\n",
        "\n",
        "22) What is the os module in Python used for in file handling?\n",
        "\n",
        "Ans:- The os module in Python is used for interacting with the operating system. In the context of file handling, it provides a variety of functions that allow you to perform operations on files and directories at the system level. Here's what it’s commonly used for:\n",
        "\n",
        "Key File Handling Features of the os Module:\n",
        "Navigating the File System:\n",
        "\n",
        "os.getcwd() – Returns the current working directory.\n",
        "\n",
        "os.chdir(path) – Changes the current working directory.\n",
        "\n",
        "Creating and Removing Directories:\n",
        "\n",
        "os.mkdir(path) – Creates a single directory.\n",
        "\n",
        "os.makedirs(path) – Creates directories recursively.\n",
        "\n",
        "os.rmdir(path) – Removes a single empty directory.\n",
        "\n",
        "os.removedirs(path) – Removes directories recursively.\n",
        "\n",
        "Listing Files and Directories:\n",
        "\n",
        "os.listdir(path) – Returns a list of files and directories in the specified path.\n",
        "\n",
        "Checking File or Directory Properties:\n",
        "\n",
        "os.path.exists(path) – Checks if a path exists.\n",
        "\n",
        "os.path.isfile(path) – Checks if a path is a file.\n",
        "\n",
        "os.path.isdir(path) – Checks if a path is a directory.\n",
        "\n",
        "File Operations:\n",
        "\n",
        "os.rename(src, dst) – Renames a file or directory.\n",
        "\n",
        "os.remove(path) – Deletes a file.\n",
        "\n",
        "Getting File Information:\n",
        "\n",
        "os.stat(path) – Returns metadata about a file (size, modification time, etc.).\n",
        "\n",
        "Joining and Splitting Paths:\n",
        "\n",
        "os.path.join(path1, path2) – Joins paths in a way that is safe for the operating system.\n",
        "\n",
        "os.path.split(path) – Splits a pathname into a pair (head, tail).\n",
        "\n",
        "Example:"
      ],
      "metadata": {
        "id": "OuxcQ3jYZ_xh"
      }
    },
    {
      "cell_type": "code",
      "source": [
        "import os\n",
        "\n",
        "# Get current directory\n",
        "print(\"Current Directory:\", os.getcwd())\n",
        "\n",
        "# Create a new directory\n",
        "os.mkdir('new_folder')\n",
        "\n",
        "# List contents of the directory\n",
        "print(\"Directory Contents:\", os.listdir('.'))\n",
        "\n",
        "# Rename the directory\n",
        "os.rename('new_folder', 'renamed_folder')\n",
        "\n",
        "# Remove the directory\n",
        "os.rmdir('renamed_folder')\n"
      ],
      "metadata": {
        "colab": {
          "base_uri": "https://localhost:8080/"
        },
        "id": "MJxXUQ0HY61J",
        "outputId": "3f3aee47-8a7c-4161-f447-a9bccd73d89d"
      },
      "execution_count": 12,
      "outputs": [
        {
          "output_type": "stream",
          "name": "stdout",
          "text": [
            "Current Directory: /content\n",
            "Directory Contents: ['.config', 'new_folder', 'example.txt', 'sample_data']\n"
          ]
        }
      ]
    },
    {
      "cell_type": "markdown",
      "source": [
        "23)  What are the challenges associated with memory management in Python?\n",
        "\n",
        "Ans:- Memory management in Python is largely automatic thanks to its built-in garbage collector and dynamic memory allocation. However, this abstraction also introduces certain challenges that developers should be aware of, especially in performance-critical applications.\n",
        "\n",
        "Key Challenges in Python Memory Management:\n",
        "Garbage Collection Overhead:\n",
        "\n",
        "Python uses reference counting and a cyclic garbage collector. While convenient, this can introduce performance overhead, especially in programs that create and destroy many objects rapidly.\n",
        "\n",
        "Memory Leaks:\n",
        "\n",
        "Even with automatic garbage collection, memory leaks can still occur, often due to:\n",
        "\n",
        "Lingering references (e.g., global variables, closures)\n",
        "\n",
        "Circular references not properly cleaned up\n",
        "\n",
        "Caches or containers that grow unchecked (e.g., list, dict)\n",
        "\n",
        "Fragmentation:\n",
        "\n",
        "Python’s memory allocator can cause memory fragmentation, especially in long-running programs or those that allocate and free many small objects. This leads to inefficient use of memory.\n",
        "\n",
        "Large Objects and Memory Pressure:\n",
        "\n",
        "Python objects have overhead (e.g., dynamic typing metadata), so they often use more memory than equivalent objects in languages like C or Java.\n",
        "\n",
        "Storing large datasets in memory (e.g., with lists or dictionaries) can quickly consume RAM, causing slowdowns or crashes.\n",
        "\n",
        "Lack of Control:\n",
        "\n",
        "Python abstracts memory management to the point where developers have limited direct control over memory allocation and deallocation.\n",
        "\n",
        "This is good for safety but bad for fine-tuned performance optimizations.\n",
        "\n",
        "Unpredictable GC Timing:\n",
        "\n",
        "The cyclic garbage collector runs periodically and may not clean up immediately, leading to memory usage spikes that can be unpredictable.\n",
        "\n",
        "Memory Management in Extensions:\n",
        "\n",
        "If you're using C extensions or interfacing with C libraries (via ctypes or cffi), you are responsible for manual memory management in those parts, which can lead to mismatches or leaks.\n",
        "\n",
        "Strategies to Mitigate Memory Issues:\n",
        "Use tools like gc module, tracemalloc, or objgraph to monitor and debug memory usage.\n",
        "\n",
        "Avoid unnecessary global variables and caches.\n",
        "\n",
        "Use generators and iterators instead of loading entire datasets into memory.\n",
        "\n",
        "Prefer __slots__ in custom classes to reduce memory overhead.\n",
        "\n",
        "Clean up references manually using del or by closing resources (e.g., files, DB connections).\n",
        "\n",
        "Profile and test memory usage regularly in long-running or resource-intensive applications.\n",
        "\n",
        "\n",
        "24) How do you raise an exception manually in Python?\n",
        "\n",
        "Ans:- In Python, you can raise an exception manually using the raise statement. This is often used to signal that an error or an exceptional condition has occurred in your program.\n",
        "\n",
        "Syntax:\n"
      ],
      "metadata": {
        "id": "YEyA4kVKcZBO"
      }
    },
    {
      "cell_type": "code",
      "source": [
        "raise ExceptionType(\"Error message\")\n"
      ],
      "metadata": {
        "colab": {
          "base_uri": "https://localhost:8080/",
          "height": 141
        },
        "id": "ukw0Tf2wdCdX",
        "outputId": "c6f762d6-0dda-4eb4-90c1-76a8c3ca7810"
      },
      "execution_count": 13,
      "outputs": [
        {
          "output_type": "error",
          "ename": "NameError",
          "evalue": "name 'ExceptionType' is not defined",
          "traceback": [
            "\u001b[0;31m---------------------------------------------------------------------------\u001b[0m",
            "\u001b[0;31mNameError\u001b[0m                                 Traceback (most recent call last)",
            "\u001b[0;32m<ipython-input-13-68b8ebb60baf>\u001b[0m in \u001b[0;36m<cell line: 0>\u001b[0;34m()\u001b[0m\n\u001b[0;32m----> 1\u001b[0;31m \u001b[0;32mraise\u001b[0m \u001b[0mExceptionType\u001b[0m\u001b[0;34m(\u001b[0m\u001b[0;34m\"Error message\"\u001b[0m\u001b[0;34m)\u001b[0m\u001b[0;34m\u001b[0m\u001b[0;34m\u001b[0m\u001b[0m\n\u001b[0m",
            "\u001b[0;31mNameError\u001b[0m: name 'ExceptionType' is not defined"
          ]
        }
      ]
    },
    {
      "cell_type": "markdown",
      "source": [
        "Common Exception Types:\n",
        "ValueError\n",
        "\n",
        "TypeError\n",
        "\n",
        "KeyError\n",
        "\n",
        "IndexError\n",
        "\n",
        "ZeroDivisionError\n",
        "\n",
        "FileNotFoundError\n",
        "\n",
        "RuntimeError\n",
        "\n",
        "Or your own custom exceptions (by subclassing Exception)\n",
        "\n",
        "Raising a Custom Exception:\n",
        "\n"
      ],
      "metadata": {
        "id": "KJCRlspNdDqJ"
      }
    },
    {
      "cell_type": "code",
      "source": [
        "class NegativeNumberError(Exception):\n",
        "    pass\n",
        "\n",
        "def square_root(x):\n",
        "    if x < 0:\n",
        "        raise NegativeNumberError(\"Negative numbers are not allowed.\")\n",
        "    return x ** 0.5\n"
      ],
      "metadata": {
        "id": "Kc7AsjeTdJ5g"
      },
      "execution_count": 14,
      "outputs": []
    },
    {
      "cell_type": "markdown",
      "source": [
        "25)  Why is it important to use multithreading in certain application?\n",
        "\n",
        "Ans:- Using multithreading is important in certain applications because it allows a program to perform multiple tasks concurrently, which can significantly improve responsiveness, resource utilization, and throughput — especially in the following scenarios:\n",
        "\n",
        "🔄 1. Improving Responsiveness in I/O-bound Applications\n",
        "In applications that spend a lot of time waiting for I/O operations (like reading from disk, network requests, or databases), threads can continue working while one is waiting.\n",
        "\n",
        "Examples: Web servers, GUI applications, network clients.\n",
        "\n",
        "📈 2. Better Resource Utilization\n",
        "Multithreading allows better CPU utilization when one thread is waiting for I/O, allowing others to continue processing.\n",
        "\n",
        "Especially beneficial in multi-core systems (though Python's GIL can limit true parallelism — see below).\n",
        "\n",
        "🖱️ 3. Maintaining GUI Responsiveness\n",
        "In desktop or mobile apps, you can use a background thread for time-consuming tasks to prevent the UI from freezing.\n",
        "\n",
        "Example: Downloading a file while keeping the user interface interactive.\n",
        "\n",
        "📤 4. Real-time Data Processing\n",
        "Applications that need to monitor real-time data (like sensor inputs or live streams) benefit from concurrent threads that handle acquisition, processing, and logging in parallel.\n",
        "\n",
        "📁 5. Parallelism in Non-Python Environments\n",
        "In some cases, especially when integrating with C/C++ or using Jython/IronPython (which don’t have Python’s GIL), threads can run in true parallel on multiple cores.\n",
        "\n",
        "⚠️ Important Caveat: Python's Global Interpreter Lock (GIL)\n",
        "In CPython (the standard Python implementation), the Global Interpreter Lock (GIL) means that only one thread executes Python bytecode at a time. This limits the effectiveness of threads for CPU-bound tasks.\n",
        "\n",
        "Alternatives:\n",
        "Use multiprocessing (instead of threading) for CPU-bound tasks.\n",
        "\n",
        "Use asyncio or concurrent.futures for structured concurrency, especially for I/O-bound work.\n",
        "\n",
        "Practical Questions\n",
        "\n",
        "1) How can you open a file for writing in Python and write a string to it?\n",
        "\n",
        "Ans:- To open a file for writing in Python and write a string to it, you can use the built-in open() function with the mode 'w'. Here's how you do it:\n",
        "\n"
      ],
      "metadata": {
        "id": "J2ZyRjV1dLKa"
      }
    },
    {
      "cell_type": "code",
      "source": [
        "# Open file in write mode\n",
        "with open('example.txt', 'w') as file:\n",
        "    file.write(\"Hello, this is a string written to a file.\")\n"
      ],
      "metadata": {
        "id": "mJP-rcydd1pZ"
      },
      "execution_count": 15,
      "outputs": []
    },
    {
      "cell_type": "markdown",
      "source": [
        "🧾 Explanation:\n",
        "'w' mode:\n",
        "\n",
        "Opens the file for writing.\n",
        "\n",
        "Creates the file if it doesn't exist.\n",
        "\n",
        "Overwrites the file if it already exists.\n",
        "\n",
        "with statement:\n",
        "\n",
        "Ensures the file is automatically closed after writing, even if an error occurs.\n",
        "\n",
        "file.write(string):\n",
        "\n",
        "Writes the string to the file.\n",
        "\n",
        "Does not automatically add a newline (\\n) — you must include it if needed.\n",
        "\n",
        "🔁 Appending Instead of Overwriting?\n",
        "If you want to add to the file instead of overwriting it:"
      ],
      "metadata": {
        "id": "jI6-CUpjd6Ve"
      }
    },
    {
      "cell_type": "code",
      "source": [
        "with open('example.txt', 'a') as file:\n",
        "    file.write(\"\\nThis will be added at the end.\")\n"
      ],
      "metadata": {
        "id": "-b4NoaV3d7yc"
      },
      "execution_count": 16,
      "outputs": []
    },
    {
      "cell_type": "markdown",
      "source": [
        "2) Write a Python program to read the contents of a file and print each line?\n",
        "\n",
        "\n",
        "Ans:- Sure! Here's a simple Python program that reads the contents of a file and prints each line:\n",
        "\n",
        "📄 Python Program to Read and Print Each Line of a File\n"
      ],
      "metadata": {
        "id": "YYokkbsaeDUh"
      }
    },
    {
      "cell_type": "code",
      "source": [
        "# Open the file in read mode\n",
        "with open('example.txt', 'r') as file:\n",
        "    # Loop through each line in the file\n",
        "    for line in file:\n",
        "        print(line.strip())  # .strip() removes any trailing newline characters\n"
      ],
      "metadata": {
        "colab": {
          "base_uri": "https://localhost:8080/"
        },
        "id": "6MzBtqbNeL0d",
        "outputId": "ab3fafdf-1bd5-4ee3-b96e-2917c12ec0e9"
      },
      "execution_count": 17,
      "outputs": [
        {
          "output_type": "stream",
          "name": "stdout",
          "text": [
            "Hello, this is a string written to a file.\n",
            "This will be added at the end.\n"
          ]
        }
      ]
    },
    {
      "cell_type": "markdown",
      "source": [
        "🧾 How It Works:\n",
        "open('example.txt', 'r'): Opens the file for reading.\n",
        "\n",
        "The with statement ensures the file is closed automatically.\n",
        "\n",
        "The for line in file: loop iterates over each line in the file.\n",
        "\n",
        "line.strip() removes any extra whitespace, including newlines (\\n), before printing.\n",
        "\n",
        "📌 Notes:\n",
        "Make sure the file example.txt exists in the same directory as your script.\n",
        "\n",
        "You can also specify the full path to the file if it's located elsewhere.\n",
        "\n",
        "3) How would you handle a case where the file doesn't exist while trying to open it for reading?\n",
        "\n",
        "Ans:-To handle a situation where a file doesn't exist while trying to open it for reading, you should use a try-except block to catch the FileNotFoundError exception. This prevents your program from crashing and allows you to respond gracefully (e.g., by showing an error message or taking alternative action).\n",
        "\n",
        "✅ Example: Handling FileNotFoundError\n"
      ],
      "metadata": {
        "id": "Kndqo4qZeQAL"
      }
    },
    {
      "cell_type": "code",
      "source": [
        "filename = 'example.txt'\n",
        "\n",
        "try:\n",
        "    with open(filename, 'r') as file:\n",
        "        for line in file:\n",
        "            print(line.strip())\n",
        "except FileNotFoundError:\n",
        "    print(f\"Error: The file '{filename}' does not exist.\")\n"
      ],
      "metadata": {
        "colab": {
          "base_uri": "https://localhost:8080/"
        },
        "id": "0N0soWw1emUX",
        "outputId": "70b2f18e-2e05-455b-a71f-5cc13011d900"
      },
      "execution_count": 18,
      "outputs": [
        {
          "output_type": "stream",
          "name": "stdout",
          "text": [
            "Hello, this is a string written to a file.\n",
            "This will be added at the end.\n"
          ]
        }
      ]
    },
    {
      "cell_type": "markdown",
      "source": [
        " What This Does:\n",
        "Tries to open example.txt for reading.\n",
        "\n",
        "If the file doesn't exist, Python raises a FileNotFoundError.\n",
        "\n",
        "The except block catches this and prints a user-friendly error message.\n",
        "\n",
        "🛡️ Bonus: Handle Other Errors Too\n",
        "You can catch additional exceptions like PermissionError or use a generic Exception to catch all unexpected issues:"
      ],
      "metadata": {
        "id": "8OLSvFGHeneR"
      }
    },
    {
      "cell_type": "code",
      "source": [
        "try:\n",
        "    with open(filename, 'r') as file:\n",
        "        for line in file:\n",
        "            print(line.strip())\n",
        "except FileNotFoundError:\n",
        "    print(f\"File not found: {filename}\")\n",
        "except PermissionError:\n",
        "    print(f\"Permission denied: {filename}\")\n",
        "except Exception as e:\n",
        "    print(f\"An unexpected error occurred: {e}\")\n"
      ],
      "metadata": {
        "colab": {
          "base_uri": "https://localhost:8080/"
        },
        "id": "01c1Fu4heqgv",
        "outputId": "1095b5c1-741b-4c4e-d476-719b4078d5c3"
      },
      "execution_count": 19,
      "outputs": [
        {
          "output_type": "stream",
          "name": "stdout",
          "text": [
            "Hello, this is a string written to a file.\n",
            "This will be added at the end.\n"
          ]
        }
      ]
    },
    {
      "cell_type": "markdown",
      "source": [
        "4) Write a Python script that reads from one file and writes its content to another file?\n",
        "\n",
        "Ans:-"
      ],
      "metadata": {
        "id": "Qm12WALFes_I"
      }
    },
    {
      "cell_type": "code",
      "source": [
        "# Define source and destination file paths\n",
        "source_file = 'source.txt'\n",
        "destination_file = 'destination.txt'\n",
        "\n",
        "try:\n",
        "    # Open the source file for reading\n",
        "    with open(source_file, 'r') as src:\n",
        "        # Open the destination file for writing\n",
        "        with open(destination_file, 'w') as dest:\n",
        "            # Read each line from the source and write to the destination\n",
        "            for line in src:\n",
        "                dest.write(line)\n",
        "\n",
        "    print(f\"Contents copied from '{source_file}' to '{destination_file}'.\")\n",
        "except FileNotFoundError:\n",
        "    print(f\"Error: The file '{source_file}' does not exist.\")\n",
        "except Exception as e:\n",
        "    print(f\"An unexpected error occurred: {e}\")\n"
      ],
      "metadata": {
        "colab": {
          "base_uri": "https://localhost:8080/"
        },
        "id": "OqLr269Ke_Iw",
        "outputId": "3f6f11ef-0aeb-49e9-bbc6-5a078eb28420"
      },
      "execution_count": 20,
      "outputs": [
        {
          "output_type": "stream",
          "name": "stdout",
          "text": [
            "Error: The file 'source.txt' does not exist.\n"
          ]
        }
      ]
    },
    {
      "cell_type": "markdown",
      "source": [
        "5)How would you catch and handle division by zero error in Python?\n",
        "Ans:-"
      ],
      "metadata": {
        "id": "7-WUGGWhfAws"
      }
    },
    {
      "cell_type": "code",
      "source": [
        "try:\n",
        "    numerator = 10\n",
        "    denominator = 0\n",
        "    result = numerator / denominator\n",
        "    print(\"Result:\", result)\n",
        "except ZeroDivisionError:\n",
        "    print(\"Error: Cannot divide by zero.\")\n"
      ],
      "metadata": {
        "colab": {
          "base_uri": "https://localhost:8080/"
        },
        "id": "Gnn_NXekfd-v",
        "outputId": "aa9e6d46-66f5-493b-99fd-005b2b097e33"
      },
      "execution_count": 21,
      "outputs": [
        {
          "output_type": "stream",
          "name": "stdout",
          "text": [
            "Error: Cannot divide by zero.\n"
          ]
        }
      ]
    },
    {
      "cell_type": "markdown",
      "source": [
        "🧾 How It Works:\n",
        "The division operation (numerator / denominator) raises a ZeroDivisionError if the denominator is 0.\n",
        "\n",
        "The except ZeroDivisionError: block catches the error and prints a friendly message.\n",
        "\n",
        "This prevents the program from crashing.\n",
        "\n",
        "🔄 Optional: Retry or Default Value\n",
        "You can also offer a fallback or retry logic:"
      ],
      "metadata": {
        "id": "zqqwe73QffMW"
      }
    },
    {
      "cell_type": "code",
      "source": [
        "try:\n",
        "    a = int(input(\"Enter numerator: \"))\n",
        "    b = int(input(\"Enter denominator: \"))\n",
        "    print(\"Result:\", a / b)\n",
        "except ZeroDivisionError:\n",
        "    print(\"Error: Division by zero is not allowed. Please enter a non-zero denominator.\")\n"
      ],
      "metadata": {
        "colab": {
          "base_uri": "https://localhost:8080/"
        },
        "id": "5amUpNAPflQz",
        "outputId": "b914d548-9424-4e47-f50a-dc9ad5e4f4f2"
      },
      "execution_count": 22,
      "outputs": [
        {
          "output_type": "stream",
          "name": "stdout",
          "text": [
            "Enter numerator: 87876756\n",
            "Enter denominator: 908\n",
            "Result: 96780.56828193832\n"
          ]
        }
      ]
    },
    {
      "cell_type": "markdown",
      "source": [
        "6) Write a Python program that logs an error message to a log file when a division by zero exception occurs?"
      ],
      "metadata": {
        "id": "mM9sMNbYfp_Z"
      }
    },
    {
      "cell_type": "code",
      "source": [
        "import logging\n",
        "\n",
        "# Configure the logging\n",
        "logging.basicConfig(\n",
        "    filename='error_log.txt',       # Log file name\n",
        "    level=logging.ERROR,            # Log level\n",
        "    format='%(asctime)s - %(levelname)s - %(message)s'  # Log format\n",
        ")\n",
        "\n",
        "def divide(a, b):\n",
        "    try:\n",
        "        return a / b\n",
        "    except ZeroDivisionError as e:\n",
        "        logging.error(\"Division by zero attempted: %s / %s\", a, b)\n",
        "        print(\"An error occurred. Check 'error_log.txt' for details.\")\n",
        "        return None\n",
        "\n",
        "# Example usage\n",
        "result = divide(10, 0)\n"
      ],
      "metadata": {
        "colab": {
          "base_uri": "https://localhost:8080/"
        },
        "id": "Jm4NTJ--f1Ob",
        "outputId": "466dc777-0cd3-4b15-d2af-5bc96405b0bc"
      },
      "execution_count": 23,
      "outputs": [
        {
          "output_type": "stream",
          "name": "stderr",
          "text": [
            "ERROR:root:Division by zero attempted: 10 / 0\n"
          ]
        },
        {
          "output_type": "stream",
          "name": "stdout",
          "text": [
            "An error occurred. Check 'error_log.txt' for details.\n"
          ]
        }
      ]
    },
    {
      "cell_type": "markdown",
      "source": [
        "7) How do you log information at different levels (INFO, ERROR, WARNING) in Python using the logging module?\n",
        "\n",
        "Ans:- In Python, the logging module allows you to log messages at different severity levels, which is useful for monitoring, debugging, and maintaining your applications.\n",
        "\n",
        "📋 Common Logging Levels:\n",
        "Level\tMethod\tUse Case\n",
        "DEBUG\tlogging.debug()\tDetailed info, for diagnosing problems\n",
        "INFO\tlogging.info()\tGeneral info, program running normally\n",
        "WARNING\tlogging.warning()\tSomething unexpected, but still working\n",
        "ERROR\tlogging.error()\tA serious problem, program still runs\n",
        "CRITICAL\tlogging.critical()\tVery serious error, program may crash\n",
        "\n",
        "✅ Example: Logging at Multiple Levels"
      ],
      "metadata": {
        "id": "_dw2C31Rf7TN"
      }
    },
    {
      "cell_type": "code",
      "source": [
        "import logging\n",
        "\n",
        "# Set up basic configuration\n",
        "logging.basicConfig(\n",
        "    filename='app.log',        # Log file\n",
        "    level=logging.DEBUG,       # Minimum level to capture\n",
        "    format='%(asctime)s - %(levelname)s - %(message)s'\n",
        ")\n",
        "\n",
        "# Logging messages at various levels\n",
        "logging.debug(\"This is a DEBUG message.\")\n",
        "logging.info(\"This is an INFO message.\")\n",
        "logging.warning(\"This is a WARNING message.\")\n",
        "logging.error(\"This is an ERROR message.\")\n",
        "logging.critical(\"This is a CRITICAL message.\")\n"
      ],
      "metadata": {
        "colab": {
          "base_uri": "https://localhost:8080/"
        },
        "id": "6OGadvT1gH3M",
        "outputId": "4ae36cc9-d098-45d3-f086-259e08010eaf"
      },
      "execution_count": 24,
      "outputs": [
        {
          "output_type": "stream",
          "name": "stderr",
          "text": [
            "WARNING:root:This is a WARNING message.\n",
            "ERROR:root:This is an ERROR message.\n",
            "CRITICAL:root:This is a CRITICAL message.\n"
          ]
        }
      ]
    },
    {
      "cell_type": "markdown",
      "source": [
        "8)  Write a program to handle a file opening error using exception handling?\n",
        "\n",
        "Ans:- Sure! Here’s a simple Python program that handles file opening errors using a try-except block to catch exceptions like FileNotFoundError or IOError:\n",
        "\n",
        "📝 Python Program: Handle File Opening Error\n"
      ],
      "metadata": {
        "id": "DeIf0CiIgRRL"
      }
    },
    {
      "cell_type": "code",
      "source": [
        "filename = 'non_existent_file.txt'\n",
        "\n",
        "try:\n",
        "    with open(filename, 'r') as file:\n",
        "        content = file.read()\n",
        "        print(content)\n",
        "except FileNotFoundError:\n",
        "    print(f\"Error: The file '{filename}' was not found.\")\n",
        "except IOError:\n",
        "    print(f\"Error: An I/O error occurred while trying to open '{filename}'.\")\n",
        "except Exception as e:\n",
        "    print(f\"An unexpected error occurred: {e}\")\n"
      ],
      "metadata": {
        "colab": {
          "base_uri": "https://localhost:8080/"
        },
        "id": "RWTdJ9hlgZL1",
        "outputId": "37282176-bff3-4a84-f0c6-1cb642db119f"
      },
      "execution_count": 25,
      "outputs": [
        {
          "output_type": "stream",
          "name": "stdout",
          "text": [
            "Error: The file 'non_existent_file.txt' was not found.\n"
          ]
        }
      ]
    },
    {
      "cell_type": "markdown",
      "source": [
        " 9) How can you read a file line by line and store its content in a list in Python?\n",
        "\n",
        "\n",
        " Ans:- You can read a file line by line and store its contents in a list easily in Python. Here are two common ways to do it:\n",
        "\n",
        "Method 1: Using a for loop\n"
      ],
      "metadata": {
        "id": "Ovh8S5D1gfBc"
      }
    },
    {
      "cell_type": "code",
      "source": [
        "lines = []\n",
        "with open('example.txt', 'r') as file:\n",
        "    for line in file:\n",
        "        lines.append(line.strip())  # .strip() removes newline characters\n",
        "\n",
        "print(lines)\n"
      ],
      "metadata": {
        "colab": {
          "base_uri": "https://localhost:8080/"
        },
        "id": "6FLIi2nAgtp-",
        "outputId": "898aa22e-e3a4-4746-ce0d-4ec44911ddfe"
      },
      "execution_count": 26,
      "outputs": [
        {
          "output_type": "stream",
          "name": "stdout",
          "text": [
            "['Hello, this is a string written to a file.', 'This will be added at the end.']\n"
          ]
        }
      ]
    },
    {
      "cell_type": "markdown",
      "source": [
        "Method 2: Using readlines()\n"
      ],
      "metadata": {
        "id": "FV3A-EGXgxER"
      }
    },
    {
      "cell_type": "code",
      "source": [
        "with open('example.txt', 'r') as file:\n",
        "    lines = [line.strip() for line in file.readlines()]\n",
        "\n",
        "print(lines)\n"
      ],
      "metadata": {
        "colab": {
          "base_uri": "https://localhost:8080/"
        },
        "id": "9NhS2EV0gypE",
        "outputId": "ffed262b-fb67-482f-9a5b-880d8507ab95"
      },
      "execution_count": 27,
      "outputs": [
        {
          "output_type": "stream",
          "name": "stdout",
          "text": [
            "['Hello, this is a string written to a file.', 'This will be added at the end.']\n"
          ]
        }
      ]
    },
    {
      "cell_type": "markdown",
      "source": [
        "10)  How can you append data to an existing file in Python?\n",
        "\n",
        "Ans:- To append data to an existing file in Python, you open the file in append mode using the 'a' mode with the open() function. This way, whatever you write gets added to the end of the file without overwriting the existing content.\n",
        "\n",
        "Example:"
      ],
      "metadata": {
        "id": "o0DxWX3pg2nO"
      }
    },
    {
      "cell_type": "code",
      "source": [
        "with open('example.txt', 'a') as file:\n",
        "    file.write(\"This line will be added at the end of the file.\\n\")\n"
      ],
      "metadata": {
        "id": "QRmdIFx8hHSk"
      },
      "execution_count": 28,
      "outputs": []
    },
    {
      "cell_type": "markdown",
      "source": [
        "11) Write a Python program that uses a try-except block to handle an error when attempting to access a\n",
        "dictionary key that doesn't exist?\n",
        "\n",
        "Ans:- Got it! Here's that Python program again for easy reference\n",
        "\n"
      ],
      "metadata": {
        "id": "cxn8lSD7hMG9"
      }
    },
    {
      "cell_type": "code",
      "source": [
        "my_dict = {'name': 'Alice', 'age': 25}\n",
        "\n",
        "key_to_access = 'address'\n",
        "\n",
        "try:\n",
        "    value = my_dict[key_to_access]\n",
        "    print(f\"The value for '{key_to_access}' is {value}.\")\n",
        "except KeyError:\n",
        "    print(f\"Error: The key '{key_to_access}' does not exist in the dictionary.\")\n"
      ],
      "metadata": {
        "colab": {
          "base_uri": "https://localhost:8080/"
        },
        "id": "fynJspKthrvZ",
        "outputId": "d81a5c31-bed8-4632-8aa0-c7d82392b238"
      },
      "execution_count": 29,
      "outputs": [
        {
          "output_type": "stream",
          "name": "stdout",
          "text": [
            "Error: The key 'address' does not exist in the dictionary.\n"
          ]
        }
      ]
    },
    {
      "cell_type": "markdown",
      "source": [
        "12)  Write a program that demonstrates using multiple except blocks to handle different types of exceptions?\n",
        "\n",
        "Ans:- Sure! Here’s a Python program that demonstrates using multiple except blocks to handle different types of exceptions separately"
      ],
      "metadata": {
        "id": "8gkG9vpOhszZ"
      }
    },
    {
      "cell_type": "code",
      "source": [
        "try:\n",
        "    # User input for two numbers\n",
        "    num1 = int(input(\"Enter the first number: \"))\n",
        "    num2 = int(input(\"Enter the second number: \"))\n",
        "\n",
        "    # Division operation\n",
        "    result = num1 / num2\n",
        "    print(f\"Result: {result}\")\n",
        "\n",
        "    # Access a list element\n",
        "    sample_list = [1, 2, 3]\n",
        "    index = int(input(\"Enter an index to access in the list: \"))\n",
        "    print(f\"List element at index {index}: {sample_list[index]}\")\n",
        "\n",
        "except ValueError:\n",
        "    print(\"Error: Invalid input. Please enter numeric values.\")\n",
        "\n",
        "except ZeroDivisionError:\n",
        "    print(\"Error: Division by zero is not allowed.\")\n",
        "\n",
        "except IndexError:\n",
        "    print(\"Error: List index out of range.\")\n",
        "\n",
        "except Exception as e:\n",
        "    print(f\"An unexpected error occurred: {e}\")\n"
      ],
      "metadata": {
        "colab": {
          "base_uri": "https://localhost:8080/"
        },
        "id": "d8MjfXDDitla",
        "outputId": "aaf651d3-c160-4e49-a918-b7b6e5ffff1d"
      },
      "execution_count": 30,
      "outputs": [
        {
          "output_type": "stream",
          "name": "stdout",
          "text": [
            "Enter the first number: 89\n",
            "Enter the second number: 6706\n",
            "Result: 0.013271696987772145\n",
            "Enter an index to access in the list: 565788\n",
            "Error: List index out of range.\n"
          ]
        }
      ]
    },
    {
      "cell_type": "markdown",
      "source": [
        "13) How would you check if a file exists before attempting to read it in Python?\n",
        "\n",
        "Ans:- To check if a file exists before trying to read it in Python, you can use the os.path.exists() function from the os module or the Path class from the pathlib module. Both are commonly used and effective.\n",
        "\n",
        "Method 1: Using os.path.exists()"
      ],
      "metadata": {
        "id": "ZWs4UVFqi3j2"
      }
    },
    {
      "cell_type": "code",
      "source": [
        "import os\n",
        "\n",
        "filename = 'example.txt'\n",
        "\n",
        "if os.path.exists(filename):\n",
        "    with open(filename, 'r') as file:\n",
        "        content = file.read()\n",
        "        print(content)\n",
        "else:\n",
        "    print(f\"The file '{filename}' does not exist.\")\n"
      ],
      "metadata": {
        "colab": {
          "base_uri": "https://localhost:8080/"
        },
        "id": "XjJLHnrmjNb3",
        "outputId": "ad1e286f-125a-493a-def0-c6ccba126f7b"
      },
      "execution_count": 31,
      "outputs": [
        {
          "output_type": "stream",
          "name": "stdout",
          "text": [
            "Hello, this is a string written to a file.\n",
            "This will be added at the end.This line will be added at the end of the file.\n",
            "\n"
          ]
        }
      ]
    },
    {
      "cell_type": "markdown",
      "source": [
        "Method 2: Using pathlib.Path.exists()"
      ],
      "metadata": {
        "id": "6h8FFBxbjSBc"
      }
    },
    {
      "cell_type": "code",
      "source": [
        "from pathlib import Path\n",
        "\n",
        "filename = Path('example.txt')\n",
        "\n",
        "if filename.exists():\n",
        "    with open(filename, 'r') as file:\n",
        "        content = file.read()\n",
        "        print(content)\n",
        "else:\n",
        "    print(f\"The file '{filename}' does not exist.\")\n"
      ],
      "metadata": {
        "colab": {
          "base_uri": "https://localhost:8080/"
        },
        "id": "I0uozPRZjTEr",
        "outputId": "28667613-161f-4cd8-dfc3-12dbf491bba6"
      },
      "execution_count": 32,
      "outputs": [
        {
          "output_type": "stream",
          "name": "stdout",
          "text": [
            "Hello, this is a string written to a file.\n",
            "This will be added at the end.This line will be added at the end of the file.\n",
            "\n"
          ]
        }
      ]
    },
    {
      "cell_type": "markdown",
      "source": [
        "14) Write a program that uses the logging module to log both informational and error messages\n",
        "\n",
        "\n",
        "Ans:- Absolutely! Here’s a Python program that uses the logging module to log both informational (INFO) and error (ERROR) messages to a file:\n",
        "\n"
      ],
      "metadata": {
        "id": "IkUGyDX3jgMk"
      }
    },
    {
      "cell_type": "code",
      "source": [
        "import logging\n",
        "\n",
        "# Configure logging\n",
        "logging.basicConfig(\n",
        "    filename='app.log',               # Log file\n",
        "    level=logging.DEBUG,              # Capture all levels DEBUG and above\n",
        "    format='%(asctime)s - %(levelname)s - %(message)s'\n",
        ")\n",
        "\n",
        "def divide(a, b):\n",
        "    logging.info(f\"Attempting to divide {a} by {b}\")\n",
        "    try:\n",
        "        result = a / b\n",
        "        logging.info(f\"Division successful: {result}\")\n",
        "        return result\n",
        "    except ZeroDivisionError:\n",
        "        logging.error(\"Division by zero error occurred\")\n",
        "        return None\n",
        "\n",
        "# Example usage\n",
        "divide(10, 2)\n",
        "divide(5, 0)\n"
      ],
      "metadata": {
        "colab": {
          "base_uri": "https://localhost:8080/"
        },
        "id": "Id1hmOXHjsHl",
        "outputId": "0e01c375-1e64-4f83-8903-ff6bf866a023"
      },
      "execution_count": 33,
      "outputs": [
        {
          "output_type": "stream",
          "name": "stderr",
          "text": [
            "ERROR:root:Division by zero error occurred\n"
          ]
        }
      ]
    },
    {
      "cell_type": "markdown",
      "source": [
        " 15) Write a Python program that prints the content of a file and handles the case when the file is empty?\n",
        "\n",
        " Ans:- Here’s a Python program that reads and prints the content of a file, and also handles the case when the file is empty:\n",
        "\n",
        "\n"
      ],
      "metadata": {
        "id": "PSC3wT4pjz-f"
      }
    },
    {
      "cell_type": "code",
      "source": [
        "filename = 'example.txt'\n",
        "\n",
        "try:\n",
        "    with open(filename, 'r') as file:\n",
        "        content = file.read()\n",
        "        if content:\n",
        "            print(\"File content:\")\n",
        "            print(content)\n",
        "        else:\n",
        "            print(f\"The file '{filename}' is empty.\")\n",
        "except FileNotFoundError:\n",
        "    print(f\"Error: The file '{filename}' does not exist.\")\n",
        "except Exception as e:\n",
        "    print(f\"An unexpected error occurred: {e}\")\n"
      ],
      "metadata": {
        "colab": {
          "base_uri": "https://localhost:8080/"
        },
        "id": "KU6dEky0kEWd",
        "outputId": "54e09acd-d5da-40f9-994f-b1bfe399e2c6"
      },
      "execution_count": 34,
      "outputs": [
        {
          "output_type": "stream",
          "name": "stdout",
          "text": [
            "File content:\n",
            "Hello, this is a string written to a file.\n",
            "This will be added at the end.This line will be added at the end of the file.\n",
            "\n"
          ]
        }
      ]
    },
    {
      "cell_type": "markdown",
      "source": [
        "16) Demonstrate how to use memory profiling to check the memory usage of a small program?\n",
        "\n",
        "Ans:- Sure! To profile memory usage in Python, you can use the memory_profiler package, which lets you track memory consumption line-by-line or for the whole program.\n",
        "\n",
        "Step 1: Install memory_profiler\n",
        "Run this in your terminal or command prompt:"
      ],
      "metadata": {
        "id": "5Al6wQXAkHN9"
      }
    },
    {
      "cell_type": "code",
      "source": [
        "pip install memory_profiler\n"
      ],
      "metadata": {
        "colab": {
          "base_uri": "https://localhost:8080/"
        },
        "id": "N5q8toZhkfpt",
        "outputId": "32f2f8ee-ac4d-4e0a-e317-cb4273f9d5ed"
      },
      "execution_count": 35,
      "outputs": [
        {
          "output_type": "stream",
          "name": "stdout",
          "text": [
            "Collecting memory_profiler\n",
            "  Downloading memory_profiler-0.61.0-py3-none-any.whl.metadata (20 kB)\n",
            "Requirement already satisfied: psutil in /usr/local/lib/python3.11/dist-packages (from memory_profiler) (5.9.5)\n",
            "Downloading memory_profiler-0.61.0-py3-none-any.whl (31 kB)\n",
            "Installing collected packages: memory_profiler\n",
            "Successfully installed memory_profiler-0.61.0\n"
          ]
        }
      ]
    },
    {
      "cell_type": "markdown",
      "source": [
        "Step 2: Write a small Python program and use the @profile decorator\n",
        "Here’s an example script called memory_test.py:"
      ],
      "metadata": {
        "id": "BZKbvRdSki3X"
      }
    },
    {
      "cell_type": "code",
      "source": [
        "from memory_profiler import profile\n",
        "\n",
        "@profile\n",
        "def my_function():\n",
        "    a = [i for i in range(100000)]  # List of 100,000 integers\n",
        "    b = [x * 2 for x in a]          # Another list, double each element\n",
        "    return b\n",
        "\n",
        "if __name__ == \"__main__\":\n",
        "    my_function()\n"
      ],
      "metadata": {
        "colab": {
          "base_uri": "https://localhost:8080/"
        },
        "id": "HZVxukFLkj7p",
        "outputId": "20af9a18-b5b2-4ce4-f99b-f22f54f47bdb"
      },
      "execution_count": 36,
      "outputs": [
        {
          "output_type": "stream",
          "name": "stderr",
          "text": [
            "\n",
            "PYDEV DEBUGGER WARNING:\n",
            "sys.settrace() should not be used when the debugger is being used.\n",
            "This may cause the debugger to stop working correctly.\n",
            "If this is needed, please check: \n",
            "http://pydev.blogspot.com/2007/06/why-cant-pydev-debugger-work-with.html\n",
            "to see how to restore the debug tracing back correctly.\n",
            "Call Location:\n",
            "  File \"/usr/local/lib/python3.11/dist-packages/memory_profiler.py\", line 847, in enable\n",
            "    sys.settrace(self.trace_memory_usage)\n",
            "\n",
            "\n",
            "PYDEV DEBUGGER WARNING:\n",
            "sys.settrace() should not be used when the debugger is being used.\n",
            "This may cause the debugger to stop working correctly.\n",
            "If this is needed, please check: \n",
            "http://pydev.blogspot.com/2007/06/why-cant-pydev-debugger-work-with.html\n",
            "to see how to restore the debug tracing back correctly.\n",
            "Call Location:\n",
            "  File \"/usr/local/lib/python3.11/dist-packages/memory_profiler.py\", line 850, in disable\n",
            "    sys.settrace(self._original_trace_function)\n",
            "\n"
          ]
        },
        {
          "output_type": "stream",
          "name": "stdout",
          "text": [
            "ERROR: Could not find file <ipython-input-36-22ba07e0637c>\n",
            "NOTE: %mprun can only be used on functions defined in physical files, and not in the IPython environment.\n"
          ]
        }
      ]
    },
    {
      "cell_type": "markdown",
      "source": [
        "Step 3: Run the profiler\n",
        "Run this in your terminal:"
      ],
      "metadata": {
        "id": "gWUOP3-fkpq4"
      }
    },
    {
      "cell_type": "code",
      "source": [
        "!python -m memory_profiler memory_test.py"
      ],
      "metadata": {
        "colab": {
          "base_uri": "https://localhost:8080/"
        },
        "id": "w3jEJ30mkqlP",
        "outputId": "b09ffe00-0c01-4a35-96a5-cef682e4e95c"
      },
      "execution_count": 38,
      "outputs": [
        {
          "output_type": "stream",
          "name": "stdout",
          "text": [
            "Could not find script memory_test.py\n"
          ]
        }
      ]
    },
    {
      "cell_type": "markdown",
      "source": [
        "17) Write a Python program to create and write a list of numbers to a file, one number per line?\n",
        "\n",
        "Ans:- Sure! Here's a simple Python program that writes a list of numbers to a file, one number per line:\n",
        "\n"
      ],
      "metadata": {
        "id": "duuzu3umkxYf"
      }
    },
    {
      "cell_type": "code",
      "source": [
        "numbers = [10, 20, 30, 40, 50]\n",
        "\n",
        "with open('numbers.txt', 'w') as file:\n",
        "    for number in numbers:\n",
        "        file.write(f\"{number}\\n\")\n",
        "\n",
        "print(\"Numbers have been written to 'numbers.txt'.\")\n"
      ],
      "metadata": {
        "colab": {
          "base_uri": "https://localhost:8080/"
        },
        "id": "bdfN39_VlCYS",
        "outputId": "9641eace-051d-4be9-b0a3-c2f46c7e30b3"
      },
      "execution_count": 39,
      "outputs": [
        {
          "output_type": "stream",
          "name": "stdout",
          "text": [
            "Numbers have been written to 'numbers.txt'.\n"
          ]
        }
      ]
    },
    {
      "cell_type": "markdown",
      "source": [
        "18)  How would you implement a basic logging setup that logs to a file with rotation after 1MB?\n",
        "\n",
        "Ans:- Great question! To implement logging with file rotation after 1MB, you can use Python’s logging module along with RotatingFileHandler.\n",
        "\n",
        "Here’s a basic setup example:"
      ],
      "metadata": {
        "id": "-SrZFbtYlQAF"
      }
    },
    {
      "cell_type": "code",
      "source": [
        "import logging\n",
        "from logging.handlers import RotatingFileHandler\n",
        "\n",
        "# Create a logger\n",
        "logger = logging.getLogger('my_logger')\n",
        "logger.setLevel(logging.DEBUG)  # Log all levels DEBUG and above\n",
        "\n",
        "# Create a rotating file handler that rotates after 1MB (1,048,576 bytes)\n",
        "handler = RotatingFileHandler('app.log', maxBytes=1_048_576, backupCount=3)\n",
        "handler.setLevel(logging.DEBUG)\n",
        "\n",
        "# Create a formatter and set it for the handler\n",
        "formatter = logging.Formatter('%(asctime)s - %(levelname)s - %(message)s')\n",
        "handler.setFormatter(formatter)\n",
        "\n",
        "# Add handler to the logger\n",
        "logger.addHandler(handler)\n",
        "\n",
        "# Example log messages\n",
        "logger.info(\"This is an informational message.\")\n",
        "logger.error(\"This is an error message.\")\n"
      ],
      "metadata": {
        "colab": {
          "base_uri": "https://localhost:8080/"
        },
        "id": "9w_-Q8WYlaLq",
        "outputId": "8cfb46d2-4da6-437a-97b0-1ca7ba7b3daf"
      },
      "execution_count": 40,
      "outputs": [
        {
          "output_type": "stream",
          "name": "stderr",
          "text": [
            "INFO:my_logger:This is an informational message.\n",
            "ERROR:my_logger:This is an error message.\n"
          ]
        }
      ]
    },
    {
      "cell_type": "markdown",
      "source": [
        "19) Write a program that handles both IndexError and KeyError using a try-except block?\n",
        "\n",
        "Ans:- Here’s a Python program that handles both IndexError and KeyError using a single try-except block with multiple except clauses:"
      ],
      "metadata": {
        "id": "x3oHIjnLlkm6"
      }
    },
    {
      "cell_type": "code",
      "source": [
        "my_list = [10, 20, 30]\n",
        "my_dict = {'a': 1, 'b': 2}\n",
        "\n",
        "try:\n",
        "    # Attempt to access an index that may not exist\n",
        "    index = 5\n",
        "    print(f\"List element at index {index}: {my_list[index]}\")\n",
        "\n",
        "    # Attempt to access a dictionary key that may not exist\n",
        "    key = 'c'\n",
        "    print(f\"Dictionary value for key '{key}': {my_dict[key]}\")\n",
        "\n",
        "except IndexError:\n",
        "    print(f\"Error: Index {index} is out of range in the list.\")\n",
        "\n",
        "except KeyError:\n",
        "    print(f\"Error: Key '{key}' does not exist in the dictionary.\")\n"
      ],
      "metadata": {
        "colab": {
          "base_uri": "https://localhost:8080/"
        },
        "id": "_pAc_mGdlrA4",
        "outputId": "58544aa8-35ec-44c6-86d3-1c926cb4034e"
      },
      "execution_count": 41,
      "outputs": [
        {
          "output_type": "stream",
          "name": "stdout",
          "text": [
            "Error: Index 5 is out of range in the list.\n"
          ]
        }
      ]
    },
    {
      "cell_type": "markdown",
      "source": [
        "20) How would you open a file and read its contents using a context manager in Python?\n",
        "\n",
        "Ans:- You’d use the with statement in Python to open a file with a context manager, which ensures the file is properly closed after its block of code runs — even if errors occur.\n",
        "\n",
        "Example: Reading a file with a context manager"
      ],
      "metadata": {
        "id": "8-DwTdSxlsDL"
      }
    },
    {
      "cell_type": "code",
      "source": [
        "filename = 'example.txt'\n",
        "\n",
        "with open(filename, 'r') as file:\n",
        "    content = file.read()\n",
        "    print(content)\n",
        "\n"
      ],
      "metadata": {
        "colab": {
          "base_uri": "https://localhost:8080/"
        },
        "id": "p6n9QC2Ul4rh",
        "outputId": "e9098723-50d5-45ce-e612-d77265b7b9af"
      },
      "execution_count": 42,
      "outputs": [
        {
          "output_type": "stream",
          "name": "stdout",
          "text": [
            "Hello, this is a string written to a file.\n",
            "This will be added at the end.This line will be added at the end of the file.\n",
            "\n"
          ]
        }
      ]
    },
    {
      "cell_type": "markdown",
      "source": [
        " 21) Write a Python program that reads a file and prints the number of occurrences of a specific word?\n",
        "\n",
        "\n",
        " Ans:- Sure! Here's a Python program that reads a file and counts how many times a specific word appears in it:"
      ],
      "metadata": {
        "id": "xh_oKhTwl575"
      }
    },
    {
      "cell_type": "code",
      "source": [
        "filename = 'example.txt'\n",
        "word_to_count = 'python'\n",
        "\n",
        "try:\n",
        "    with open(filename, 'r') as file:\n",
        "        content = file.read().lower()  # Convert to lowercase for case-insensitive matching\n",
        "        words = content.split()         # Split text into words\n",
        "        count = words.count(word_to_count.lower())\n",
        "    print(f\"The word '{word_to_count}' occurs {count} times in the file.\")\n",
        "except FileNotFoundError:\n",
        "    print(f\"Error: The file '{filename}' was not found.\")\n",
        "except Exception as e:\n",
        "    print(f\"An error occurred: {e}\")\n"
      ],
      "metadata": {
        "colab": {
          "base_uri": "https://localhost:8080/"
        },
        "id": "bTtPM8ZPmUUO",
        "outputId": "109924f8-6c37-4bb2-9c40-0628f6f8ffb4"
      },
      "execution_count": 43,
      "outputs": [
        {
          "output_type": "stream",
          "name": "stdout",
          "text": [
            "The word 'python' occurs 0 times in the file.\n"
          ]
        }
      ]
    },
    {
      "cell_type": "markdown",
      "source": [
        "22) How can you check if a file is empty before attempting to read its contents?\n",
        "\n",
        "\n",
        "Ans:-To check if a file is empty before reading it in Python, you can use one of the following methods:\n",
        "\n",
        "✅ Method 1: Using os.stat()"
      ],
      "metadata": {
        "id": "zvMv49eimVX1"
      }
    },
    {
      "cell_type": "code",
      "source": [
        "import os\n",
        "\n",
        "filename = 'example.txt'\n",
        "\n",
        "if os.path.exists(filename) and os.stat(filename).st_size == 0:\n",
        "    print(f\"The file '{filename}' is empty.\")\n",
        "else:\n",
        "    with open(filename, 'r') as file:\n",
        "        content = file.read()\n",
        "        print(content)\n"
      ],
      "metadata": {
        "colab": {
          "base_uri": "https://localhost:8080/"
        },
        "id": "4Dj9x7Oqmk6T",
        "outputId": "a041c347-a07d-471d-b892-12bcb322fba7"
      },
      "execution_count": 44,
      "outputs": [
        {
          "output_type": "stream",
          "name": "stdout",
          "text": [
            "Hello, this is a string written to a file.\n",
            "This will be added at the end.This line will be added at the end of the file.\n",
            "\n"
          ]
        }
      ]
    },
    {
      "cell_type": "markdown",
      "source": [
        "os.stat(filename).st_size returns the size of the file in bytes.\n",
        "\n",
        "If it's 0, the file is empty.\n",
        "\n",
        "✅ Method 2: Using read() and checking content"
      ],
      "metadata": {
        "id": "ofW_CvynmpX_"
      }
    },
    {
      "cell_type": "code",
      "source": [
        "filename = 'example.txt'\n",
        "\n",
        "try:\n",
        "    with open(filename, 'r') as file:\n",
        "        content = file.read()\n",
        "        if not content:\n",
        "            print(f\"The file '{filename}' is empty.\")\n",
        "        else:\n",
        "            print(content)\n",
        "except FileNotFoundError:\n",
        "    print(f\"The file '{filename}' does not exist.\")\n"
      ],
      "metadata": {
        "colab": {
          "base_uri": "https://localhost:8080/"
        },
        "id": "hokn2q4ImrpR",
        "outputId": "dbc81982-e263-4d0a-9081-842d7cd6d0ff"
      },
      "execution_count": 45,
      "outputs": [
        {
          "output_type": "stream",
          "name": "stdout",
          "text": [
            "Hello, this is a string written to a file.\n",
            "This will be added at the end.This line will be added at the end of the file.\n",
            "\n"
          ]
        }
      ]
    },
    {
      "cell_type": "markdown",
      "source": [
        "23)  Write a Python program that writes to a log file when an error occurs during file handling?\n",
        "\n",
        "\n",
        "Ans:- Certainly! Below is a Python program that attempts to open and read a file. If an error occurs (like the file not existing), it logs the error to a log file using the logging module:\n",
        "\n",
        "✅ Python Program: Log Errors During File Handling"
      ],
      "metadata": {
        "id": "l-TWAPFYms2q"
      }
    },
    {
      "cell_type": "code",
      "source": [
        "import logging\n",
        "\n",
        "# Configure logging to write errors to a log file\n",
        "logging.basicConfig(\n",
        "    filename='file_errors.log',\n",
        "    level=logging.ERROR,\n",
        "    format='%(asctime)s - %(levelname)s - %(message)s'\n",
        ")\n",
        "\n",
        "filename = 'data.txt'  # You can change this to test with a non-existent file\n",
        "\n",
        "try:\n",
        "    with open(filename, 'r') as file:\n",
        "        content = file.read()\n",
        "        print(\"File content:\")\n",
        "        print(content)\n",
        "\n",
        "except FileNotFoundError as e:\n",
        "    logging.error(f\"File not found: {filename} - {e}\")\n",
        "    print(f\"Error: The file '{filename}' does not exist. Check 'file_errors.log' for details.\")\n",
        "\n",
        "except Exception as e:\n",
        "    logging.error(f\"Unexpected error while accessing '{filename}': {e}\")\n",
        "    print(\"An unexpected error occurred. Details have been logged.\")\n"
      ],
      "metadata": {
        "colab": {
          "base_uri": "https://localhost:8080/"
        },
        "id": "VRrW3cdlm8sp",
        "outputId": "bf2a4029-1ffa-479a-8228-53e06affd46d"
      },
      "execution_count": 46,
      "outputs": [
        {
          "output_type": "stream",
          "name": "stderr",
          "text": [
            "ERROR:root:File not found: data.txt - [Errno 2] No such file or directory: 'data.txt'\n"
          ]
        },
        {
          "output_type": "stream",
          "name": "stdout",
          "text": [
            "Error: The file 'data.txt' does not exist. Check 'file_errors.log' for details.\n"
          ]
        }
      ]
    }
  ]
}